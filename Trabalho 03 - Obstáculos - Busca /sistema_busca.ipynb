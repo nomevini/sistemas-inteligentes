{
 "cells": [
  {
   "cell_type": "code",
   "execution_count": 9,
   "id": "b8634fed-f636-4c3a-a735-4bf89ce29e33",
   "metadata": {
    "tags": []
   },
   "outputs": [],
   "source": [
    "import numpy as np\n",
    "from random import randint\n",
    "import matplotlib.pyplot as plt\n",
    "import matplotlib.patches as patches\n",
    "from shapely.geometry import LineString, Polygon"
   ]
  },
  {
   "cell_type": "markdown",
   "id": "d12c83a1-e05c-406f-96ce-2aeb4f262f3a",
   "metadata": {},
   "source": [
    "# 1º Etapa - Criar os obstaculos e os pontos iniciais e finais\n",
    "\n",
    "Essa etapa consiste em criar um mapa de proporção MxN, capaz de alocar todos os obstaculos e os pontos iniciais e finais;\n",
    "\n",
    "Observações:\n",
    "\n",
    "- Todos os obstaculos devem ser gerados automaticamente\n",
    "- Todos os obstaculos devem estar dentro do espaço do mapa (Caso aconteça, sortear uma nova posição)\n",
    "- Nenhum obstaculo deve sobrepor o outro (Caso aconteça, sortear uma nova posição)\n",
    "\n",
    "- para coordenadas, seguir a seguinte ordem para os valores em um array\n",
    "\n",
    "0-----1 <br>\n",
    "2-----3\n"
   ]
  },
  {
   "cell_type": "markdown",
   "id": "1ca8e4bf-97f7-4e37-bbf7-e94107e88da2",
   "metadata": {},
   "source": [
    "# Função para validar coordenada\n",
    "\n",
    "Essa função tem como objetivo receber um ponto e verificar se esse ponto está compreendido dentro de um retangulo de coordenadas.\n",
    "\n",
    "A função é útil para os seguintes casos:\n",
    "- Verificar se o ponto está dentro do mapa;\n",
    "- Verificar se um ponto de um obstaculo não sobrepoe outro obstaculo;"
   ]
  },
  {
   "cell_type": "code",
   "execution_count": 10,
   "id": "44e4bd2f-5174-4727-8946-315c7844ac1b",
   "metadata": {
    "tags": []
   },
   "outputs": [],
   "source": [
    "def coordenada_valida(ponto, x_min_mapa, y_min_mapa, x_max_mapa, y_max_mapa):\n",
    "    '''\n",
    "    ponto: [x,y]\n",
    "    x_min: Coordenada x minima do mapa\n",
    "    y_min: Coordenada y minima do mapa\n",
    "    x_max: Coordenada x máxima do mapa\n",
    "    y_max: Coordenada y máxima do mapa\n",
    "    \n",
    "    retorna True caso seja no intervalo e False caso a coordenada seja inválida\n",
    "    \n",
    "    '''\n",
    "    return x_min_mapa <= ponto[0] <= x_max_mapa and y_min_mapa <= ponto[1] <= y_max_mapa   "
   ]
  },
  {
   "cell_type": "markdown",
   "id": "8bf02fd0-66dc-4702-84ef-abc8efae4f8c",
   "metadata": {},
   "source": [
    "# Função Obstaculo Sobreposto\n",
    "\n",
    "Essa função tem como objetivo verificar se algum ponto (x,y) do novo obstaculo criado está dentro de um obstaculo criado anteriormente."
   ]
  },
  {
   "cell_type": "code",
   "execution_count": 11,
   "id": "a764a0e7-69ca-425e-b3da-1c85e48080b1",
   "metadata": {
    "tags": []
   },
   "outputs": [],
   "source": [
    "def obstaculo_sobreposto(novo_obstaculo, obstaculos):\n",
    "    '''\n",
    "    novo_obstaculo: lista com os pontos do novo obstaculo -> [[x,y], [x,y], [x,y], [x,y]]\n",
    "    obstaculos: lista com todos os obstaculos já criados -> [[[x,y], [x,y], [x,y], [x,y]] , [[x,y], [x,y], [x,y], [x,y]]]\n",
    "    \n",
    "    \n",
    "    retornar True se os obstaculos se sobrepoe. False caso não se sobrepoe.\n",
    "    '''\n",
    "    \n",
    "    for obstaculo in obstaculos:\n",
    "        # obstaculo -> [[x,y], [x,y], [x,y], [x,y]]\n",
    "        for ponto in novo_obstaculo:\n",
    "            # ponto [x,y]\n",
    "            # A função coordenada_valida retorna true se o ponto estiver dentro do \"mapa\".\n",
    "            # Nesse caso, se o ponto do novo obstaculo estiver dentro do mapa(coordenadas do obstaculo anterior)\n",
    "            # significa dizer que o obstaculo sobrepoe o outro\n",
    "            if coordenada_valida(ponto, obstaculo[0][0], obstaculo[0][1], obstaculo[3][0], obstaculo[3][1]):\n",
    "                # obstaculos se sobrepoe\n",
    "                return True\n",
    "        \n",
    "    return False"
   ]
  },
  {
   "cell_type": "markdown",
   "id": "5e8308c2-b1ce-432e-a0a2-71352655f398",
   "metadata": {},
   "source": [
    "# Criando o Mapa\n",
    "\n",
    "Essa função deve criar:\n",
    "\n",
    "- O espaço do mapa;\n",
    "- Os pontos de início e fim;\n",
    "- Os obstaculos, que são gerados aleatoriamente;"
   ]
  },
  {
   "cell_type": "code",
   "execution_count": 12,
   "id": "60769fa5-26af-48f5-8a61-d2e78e87334e",
   "metadata": {
    "tags": []
   },
   "outputs": [],
   "source": [
    "def criar_mapa(max_mapa, tam_obstaculo, qtd_obstaculos, coordenada_inicial, coordenada_final):\n",
    "    '''\n",
    "    tam_obstaculo: valor que corresponde a proporção do obstaculo. ex: 10 (obstaculo 10x10)\n",
    "    qtd_obstaculos: quantidade de obstaculos a serem gerados\n",
    "    coordenada_inicial: coordenada x,y do ponto de partida\n",
    "    coordenada_final: coordenada x,y do ponto final\n",
    "    '''\n",
    "    try:\n",
    "        \n",
    "        mapa = np.array([[0,0], [0, max_mapa], [max_mapa, 0], [max_mapa, max_mapa]])\n",
    "        \n",
    "        # verificar se as coordenadas de inicio estão dentro do mapa\n",
    "        if not coordenada_valida(coordenada_inicial, mapa[0][0], mapa[0][1], mapa[3][0], mapa[3][1]):\n",
    "            raise ValueError('Coordenada incial inválida')\n",
    "            \n",
    "        # verificar se as coordenadas final estão dentro do mapa\n",
    "        if not coordenada_valida(coordenada_final, mapa[0][0], mapa[0][1], mapa[3][0], mapa[3][1]):\n",
    "            raise ValueError('Coordenada Final inválida')\n",
    "            \n",
    "        '''\n",
    "        Criar obstaculos \n",
    "        \n",
    "        - Sortear um ponto x,y com tamanho maximo e minimo compreendido no tamanho do mapa\n",
    "        - verificar se esse ponto com o tamanho do obstaculo nao ultrapassa o espaço do mapa\n",
    "        '''    \n",
    "        \n",
    "        # verificar se o tamanho do obstaculo é maior que o tamanho do mapa\n",
    "        if tam_obstaculo >= max_mapa:\n",
    "            raise ValueError(\"Obstaculo muito grande para o mapa\")\n",
    "        \n",
    "        x = 0\n",
    "        contador = 0\n",
    "        obstaculos = []\n",
    "        while x < qtd_obstaculos:\n",
    "            \n",
    "            if contador == (qtd_obstaculos * 100) + 1000:\n",
    "                raise ValueError('Muitas tentativas de inserir os obstaculos. Ajuste o tamanho dos obstáculos ou o tamanho do mapa')\n",
    "            \n",
    "            x_min_obstaculo = randint(mapa[0][0], mapa[3][1])\n",
    "            y_min_obstaculo = randint(mapa[0][0], mapa[3][1])\n",
    "            \n",
    "            ponto1 = [x_min_obstaculo, y_min_obstaculo]\n",
    "            ponto2 = [x_min_obstaculo, y_min_obstaculo + tam_obstaculo]\n",
    "            ponto3 = [x_min_obstaculo + tam_obstaculo, y_min_obstaculo]\n",
    "            ponto4 = [x_min_obstaculo + tam_obstaculo, y_min_obstaculo + tam_obstaculo]\n",
    "            \n",
    "            \n",
    "            # Verificar se algum ponto do obstaculo ultrapassa o mapa\n",
    "            # caso ultrapassar, essa repetição será ignorada (continue) e será gerado uma nova posição para o retangulo\n",
    "            if not coordenada_valida(ponto2, mapa[0][0], mapa[0][1], mapa[3][0], mapa[3][1]):\n",
    "                contador+=1\n",
    "                continue\n",
    "                \n",
    "            if not coordenada_valida(ponto3, mapa[0][0], mapa[0][1], mapa[3][0], mapa[3][1]):\n",
    "                contador+=1\n",
    "                continue\n",
    "                \n",
    "            if not coordenada_valida(ponto4, mapa[0][0], mapa[0][1], mapa[3][0], mapa[3][1]):\n",
    "                contador+=1\n",
    "                continue\n",
    "                \n",
    "            # verificar se algum obstaculo sobrepoe o ponto inicial ou final\n",
    "            # se retornar true, significa que o obstaculo está no mesmo espaço do ponto, então deve ser gerado um novo obstaculo\n",
    "            if coordenada_valida(coordenada_inicial, ponto1[0], ponto1[1], ponto4[0], ponto4[1]):\n",
    "                contador+=1\n",
    "                continue\n",
    "                \n",
    "            if coordenada_valida(coordenada_final, ponto1[0], ponto1[1], ponto4[0], ponto4[1]):\n",
    "                contador+=1\n",
    "                continue\n",
    "                \n",
    "            # verificar se algum obstaculo sobrepoe outro já existente\n",
    "            resultado_sobreposto = obstaculo_sobreposto([ponto1, ponto2, ponto3, ponto4], obstaculos)\n",
    "            \n",
    "            if resultado_sobreposto:\n",
    "                contador += 1\n",
    "                continue\n",
    "            \n",
    "            # pontos do obstaculo válido, criar lista com todos os pontos\n",
    "            obstaculos.append([ponto1, ponto2, ponto3, ponto4])\n",
    "            x += 1\n",
    "            \n",
    "        resultados = {}\n",
    "        resultados['mapa'] = mapa\n",
    "        resultados['coordenada_inicial'] = coordenada_inicial\n",
    "        resultados['coordenada_final'] = coordenada_final\n",
    "        resultados['obstaculos'] = obstaculos\n",
    "        \n",
    "        return resultados\n",
    "    except ValueError as e:\n",
    "        print(f'Error: {e}')"
   ]
  },
  {
   "cell_type": "code",
   "execution_count": 13,
   "id": "eb76708b-72db-43be-8047-286bb9fd7e68",
   "metadata": {
    "tags": []
   },
   "outputs": [
    {
     "data": {
      "text/plain": [
       "{'mapa': array([[  0,   0],\n",
       "        [  0, 100],\n",
       "        [100,   0],\n",
       "        [100, 100]]),\n",
       " 'coordenada_inicial': [2, 2],\n",
       " 'coordenada_final': [90, 90],\n",
       " 'obstaculos': [[[63, 21], [63, 31], [73, 21], [73, 31]],\n",
       "  [[36, 11], [36, 21], [46, 11], [46, 21]]]}"
      ]
     },
     "execution_count": 13,
     "metadata": {},
     "output_type": "execute_result"
    }
   ],
   "source": [
    "#coordenada_inicial = [0, 0] # definir no inicio do mapa\n",
    "#valor_coordenada_final = random * tam_obstaculo + 10\n",
    "#coordenada_final = [valor_coordenada_final - 1, valor_coordenada_final - 1] # definir no final do mapa\n",
    "\n",
    "tam_obstaculo = 10\n",
    "qtd_obstaculos = 2\n",
    "coordenada_inicial = [2, 2]\n",
    "coordenada_final = [90, 90]\n",
    "max_mapa = 100\n",
    "\n",
    "mapa = criar_mapa(max_mapa, tam_obstaculo, qtd_obstaculos, coordenada_inicial, coordenada_final)\n",
    "mapa"
   ]
  },
  {
   "cell_type": "markdown",
   "id": "5dd13cb4-3cd5-49f0-a16c-e9fcdaa4ebe0",
   "metadata": {},
   "source": [
    "# Plotando o Mapa"
   ]
  },
  {
   "cell_type": "code",
   "execution_count": 14,
   "id": "dbda97ee-ea26-470b-8ec9-0a45112af0e7",
   "metadata": {
    "tags": []
   },
   "outputs": [
    {
     "data": {
      "image/png": "[encoded data removed]",
      "text/plain": [
       "<Figure size 1500x1500 with 1 Axes>"
      ]
     },
     "metadata": {},
     "output_type": "display_data"
    }
   ],
   "source": [
    "# Criando um retângulo\n",
    "retangulo_mapa = patches.Rectangle((mapa['mapa'][0][1], mapa['mapa'][0][0]), mapa['mapa'][3][1], mapa['mapa'][3][0], edgecolor='blue', facecolor='none', label='Mapa')\n",
    "\n",
    "fig, ax = plt.subplots(figsize=(15, 15))\n",
    "\n",
    "# Obstaculos\n",
    "for obstaculo in mapa['obstaculos']: \n",
    "    #obstaculos [[12, 4], [12, 14], [22, 4], [22, 14]]\n",
    "    retangulo_obstaculo = patches.Rectangle((obstaculo[0][0], obstaculo[0][1]), obstaculo[3][1] - obstaculo[0][1], obstaculo[3][0] - obstaculo[0][0], edgecolor='red', facecolor='red')\n",
    "    ax.add_patch(retangulo_obstaculo)\n",
    "\n",
    "\n",
    "# limite do plot\n",
    "plt.xlim(mapa['mapa'][0][0] - 0.5, mapa['mapa'][3][1] + 0.5)\n",
    "plt.ylim(mapa['mapa'][0][0] - 0.5, mapa['mapa'][3][0] + 0.5)\n",
    "\n",
    "ax.add_patch(retangulo_mapa) # adicionando Mapa\n",
    "\n",
    "# Adicionar os pontos de início e fim\n",
    "inicio = tuple(mapa['coordenada_inicial'])\n",
    "fim = tuple(mapa['coordenada_final'])\n",
    "plt.plot(*inicio, 'go', label='Início')\n",
    "plt.plot(*fim, 'ro', label='Fim')\n",
    "\n",
    "plt.gca().invert_yaxis() # Inverte o eixo Y (Para ficar parecido com o crescimento de uma matriz\n",
    "\n",
    "# Adicionando legendas\n",
    "#plt.legend()\n",
    "\n",
    "plt.title('Mapa de Obstáculos')\n",
    "plt.grid(True)\n",
    "plt.gca().set_aspect('equal', adjustable='box')  # Mantém a proporção dos eixos\n",
    "\n",
    "# Exibindo o gráfico\n",
    "plt.show()"
   ]
  },
  {
   "cell_type": "markdown",
   "id": "087dcf36-ac57-42c2-8ede-be887efd87c3",
   "metadata": {},
   "source": [
    "# Determinar se os segmentos de retas entre os pontos se interceptam\n",
    "\n",
    "Essa etapa consiste em verificar se um segmento do caminho entre o inicial e o final choca com o segmento de reta de um obstaculo. Se isso acontecer, siginifica que o caminho encontrado atualmente está atravessando algum obstaculo."
   ]
  },
  {
   "cell_type": "markdown",
   "id": "4dc48148-503d-4ed0-8e77-468889d8660f",
   "metadata": {
    "tags": []
   },
   "source": [
    "###  Etapa que devemos fazer para a criação de cada nó (filhos de um nó pai)\n",
    "0 - Do ponto atual, traçar caminho para todos os vertices possíveis (incluindo para o vertice final)\n",
    "1 - Quais são os vertices possíveis:\n",
    "1.1 Vertice não visitado\n",
    "1.2 Se eu estiver em um obstaculo, vertice que possui mesma linha ou mesma coluna + valor do tamanho do obstaculo\n",
    "1.3 vertice que não intercepta nenhum segmento de reta dos obstaculo"
   ]
  },
  {
   "cell_type": "code",
   "execution_count": 97,
   "id": "07fba17e-d8a0-4ad4-9b1e-03cd2935df59",
   "metadata": {
    "tags": []
   },
   "outputs": [],
   "source": [
    "'''\n",
    "Recebe um segmento de reta euma lista de obstaculos\n",
    "'''\n",
    "def intercepta(segmento_caminho, obstaculos):\n",
    "    '''\n",
    "    segmento_caminho: [[x,y], [x,y]]\n",
    "    obstaculos: [[[x, y], [x, y], [x, y], [x, y]], [[x, y], [x, y], [x, y], [x, y]]]\n",
    "    \n",
    "    Retorna True se houver interseção do segmento com um obstaculo.\n",
    "    False caso não haja interseção\n",
    "    '''\n",
    "    segmento_caminho_linestring = LineString([segmento_caminho[0], segmento_caminho[1]])\n",
    "    \n",
    "    for obstaculo in obstaculos:\n",
    "        '''\n",
    "        obstaculo = [[40, 46], [40, 56], [50, 46], [50, 56]]\n",
    "        '''\n",
    "        obstaculo_linestrings = []\n",
    "        obstaculo_linestrings.append(LineString([obstaculo[0], obstaculo[1]]))\n",
    "        obstaculo_linestrings.append(LineString([obstaculo[0], obstaculo[2]]))\n",
    "        obstaculo_linestrings.append(LineString([obstaculo[1], obstaculo[3]]))\n",
    "        obstaculo_linestrings.append(LineString([obstaculo[2], obstaculo[3]]))\n",
    "        \n",
    "        for linestring in obstaculo_linestrings:\n",
    "            \n",
    "            # Acessando os vértices\n",
    "            vertice_c1_caminho = segmento_caminho_linestring.coords[0] \n",
    "            vertice_c2_caminho = segmento_caminho_linestring.coords[1] \n",
    "                \n",
    "            if segmento_caminho[0] in obstaculo and segmento_caminho[1] in obstaculo:\n",
    "                # é um segmento dentro do obstaculo\n",
    "                \n",
    "                if segmento_caminho[0][0] != segmento_caminho[1][0] and segmento_caminho[0][1] != segmento_caminho[1][1]:\n",
    "                    # segmento em diagonal do quadrado\n",
    "                    return True\n",
    "                else:\n",
    "                    # arestas do quadrado\n",
    "                    return False\n",
    "            else:\n",
    "                # verificar se uma das coordenadas é igual a do segmento\n",
    "                return segmento_caminho_linestring.intersects(linestring) \n",
    "                \n",
    "        return False"
   ]
  },
  {
   "cell_type": "code",
   "execution_count": 98,
   "id": "c50b8ef1-e548-4fc8-89bb-f83423566529",
   "metadata": {
    "tags": []
   },
   "outputs": [
    {
     "name": "stdout",
     "output_type": "stream",
     "text": [
      "aqui\n"
     ]
    },
    {
     "data": {
      "text/plain": [
       "False"
      ]
     },
     "execution_count": 98,
     "metadata": {},
     "output_type": "execute_result"
    }
   ],
   "source": [
    "segmento = [[2, 2], [3, 4]]\n",
    "obstaculo = [[[1, 1], [1, 3], [3, 3], [3, 1]]]\n",
    "intercepta(segmento, obstaculo)"
   ]
  },
  {
   "cell_type": "code",
   "execution_count": 75,
   "id": "a911acf6-8c06-4133-b868-74569119f244",
   "metadata": {
    "tags": []
   },
   "outputs": [],
   "source": [
    "class No:\n",
    "    def __init__(self, caminho=[], vertice=None, tam_obstaculo=None):\n",
    "        self.caminho = caminho\n",
    "        self.vertice = vertice\n",
    "        self.tam_obstaculo = tam_obstaculo\n",
    "        self.filhos = []\n",
    "        \n",
    "    def vertice_visitado(self, vertice):\n",
    "        '''\n",
    "            vertice: coordenada xy de uma vértice de um obstaculo ([x,y])\n",
    "        '''\n",
    "        return vertice in self.caminho\n",
    "    \n",
    "    def cria_no(self, vertice_atual):\n",
    "        '''\n",
    "        retorna um novo nó da arvore\n",
    "        \n",
    "        vertice_atual: vertice atual do caminho\n",
    "        '''\n",
    "        \n",
    "        novo_caminho = self.caminho.copy()\n",
    "        novo_caminho.append(self.vertice)\n",
    "        no = No(novo_caminho, vertice_atual, self.tam_obstaculo)\n",
    "        \n",
    "        return no\n",
    "    \n",
    "    def criar_filhos(self, mapa):\n",
    "        \n",
    "        # verificar se consigo ir direto pro ponto final\n",
    "        \n",
    "        # verificar se as duas coordenadas estão dentro do obstaculo (atravessar obsta)\n",
    "        \n",
    "        pass\n",
    "    \n",
    "    "
   ]
  },
  {
   "cell_type": "code",
   "execution_count": 62,
   "id": "7d6e5845-edba-4ad7-adf3-f569d5bea6b7",
   "metadata": {
    "tags": []
   },
   "outputs": [],
   "source": [
    "def criar_arvore():\n",
    "    '''\n",
    "    Cria o no raiz e uma fila de criação dos filhos de cada nó\n",
    "    \n",
    "    Retorna a raiz da arvore \n",
    "    '''\n",
    "    \n",
    "    raiz = No([], mapa['coordenada_inicial'], tam_obstaculo)\n",
    "    fila = [raiz] # usar deque\n",
    "    while fila:\n",
    "        no = fila.pop(0)\n",
    "        \n",
    "        # criar filhos\n",
    "        if no.vertice != mapa['coordenada_final']: # enquanto o vertice atual não for o ponto final\n",
    "            no.criar_filhos(mapa)\n",
    "            fila.extend(no.filhos)\n",
    "            \n",
    "    return raiz"
   ]
  },
  {
   "cell_type": "code",
   "execution_count": 64,
   "id": "44d972a0-d376-43b5-96d3-affbf0833a57",
   "metadata": {
    "tags": []
   },
   "outputs": [],
   "source": [
    "arvore = criar_arvore()"
   ]
  },
  {
   "cell_type": "markdown",
   "id": "34e9737c-c167-436c-8a22-b448a457656e",
   "metadata": {},
   "source": [
    "# Plotar caminhos no mapa"
   ]
  },
  {
   "cell_type": "code",
   "execution_count": 44,
   "id": "7b79945b-34a0-4480-93e8-579587542dc8",
   "metadata": {
    "tags": []
   },
   "outputs": [],
   "source": [
    "# Função para plotar uma única reta\n",
    "def plotar_reta(coordenadas):\n",
    "    x = [ponto[0] for ponto in coordenadas]\n",
    "    y = [ponto[1] for ponto in coordenadas]\n",
    "    plt.plot(x, y, color='blue', linestyle='-')\n",
    "    plt.plot(x, y, color='red', marker='o', markersize=3, linestyle='None')  \n"
   ]
  },
  {
   "cell_type": "code",
   "execution_count": 45,
   "id": "773cd54a-5443-4b99-8263-e9b889ed48e6",
   "metadata": {
    "tags": []
   },
   "outputs": [
    {
     "data": {
      "image/png": "[encoded data removed]",
      "text/plain": [
       "<Figure size 1500x1500 with 1 Axes>"
      ]
     },
     "metadata": {},
     "output_type": "display_data"
    }
   ],
   "source": [
    "# Criando um retângulo\n",
    "retangulo_mapa = patches.Rectangle((mapa['mapa'][0][1], mapa['mapa'][0][0]), mapa['mapa'][3][1], mapa['mapa'][3][0], edgecolor='blue', facecolor='none', label='Mapa')\n",
    "\n",
    "fig, ax = plt.subplots(figsize=(15, 15))\n",
    "\n",
    "# Obstaculos\n",
    "for obstaculo in mapa['obstaculos']: \n",
    "    #obstaculos [[12, 4], [12, 14], [22, 4], [22, 14]]\n",
    "    retangulo_obstaculo = patches.Rectangle((obstaculo[0][0], obstaculo[0][1]), obstaculo[3][1] - obstaculo[0][1], obstaculo[3][0] - obstaculo[0][0], edgecolor='red', facecolor='red')\n",
    "    ax.add_patch(retangulo_obstaculo)\n",
    "\n",
    "\n",
    "# limite do plot\n",
    "plt.xlim(mapa['mapa'][0][0] - 0.5, mapa['mapa'][3][1] + 0.5)\n",
    "plt.ylim(mapa['mapa'][0][0] - 0.5, mapa['mapa'][3][0] + 0.5)\n",
    "\n",
    "ax.add_patch(retangulo_mapa) # adicionando Mapa\n",
    "\n",
    "# Plotar todas as retas\n",
    "for coordenadas in caminhos:\n",
    "    plotar_reta(coordenadas)\n",
    "\n",
    "# Adicionar os pontos de início e fim\n",
    "inicio = tuple(mapa['coordenada_inicial'])\n",
    "fim = tuple(mapa['coordenada_final'])\n",
    "plt.plot(*inicio, 'go', label='Início')\n",
    "plt.plot(*fim, 'ro', label='Fim')\n",
    "\n",
    "plt.gca().invert_yaxis() # Inverte o eixo Y (Para ficar parecido com o crescimento de uma matriz\n",
    "\n",
    "# Adicionando legendas\n",
    "#plt.legend()\n",
    "\n",
    "plt.title('Mapa de Obstáculos')\n",
    "plt.grid(True)\n",
    "plt.gca().set_aspect('equal', adjustable='box')  # Mantém a proporção dos eixos\n",
    "\n",
    "# Exibindo o gráfico\n",
    "plt.show()"
   ]
  },
  {
   "cell_type": "markdown",
   "id": "163b7141-5b05-4d57-bee1-e2ba8a0257ea",
   "metadata": {},
   "source": [
    "# Encontrar menor caminho"
   ]
  },
  {
   "cell_type": "code",
   "execution_count": 13,
   "id": "4d4e615b-eb0d-4d22-9283-73864064ed0c",
   "metadata": {
    "tags": []
   },
   "outputs": [],
   "source": [
    "'''\n",
    "    Calcula a distância euclidiana entre dois pontos.\n",
    "'''\n",
    "def distancia_euclidiana(ponto1, ponto2):\n",
    "    '''\n",
    "        ponto1: [x,y]\n",
    "        ponto2: [x,y]\n",
    "    \n",
    "        Retorna a distância euclidiana entre os dois pontos.\n",
    "    '''\n",
    "    x1, y1 = ponto1\n",
    "    x2, y2 = ponto2\n",
    "    \n",
    "    distancia = ((x2 - x1) ** 2 + (y2 - y1) ** 2) ** 0.5\n",
    "    \n",
    "    return distancia"
   ]
  },
  {
   "cell_type": "code",
   "execution_count": null,
   "id": "96e154cc-8f19-4395-a2aa-7f58ac0a2b39",
   "metadata": {},
   "outputs": [],
   "source": []
  }
 ],
 "metadata": {
  "kernelspec": {
   "display_name": "Python 3 (ipykernel)",
   "language": "python",
   "name": "python3"
  },
  "language_info": {
   "codemirror_mode": {
    "name": "ipython",
    "version": 3
   },
   "file_extension": ".py",
   "mimetype": "text/x-python",
   "name": "python",
   "nbconvert_exporter": "python",
   "pygments_lexer": "ipython3",
   "version": "3.11.5"
  }
 },
 "nbformat": 4,
 "nbformat_minor": 5
}
