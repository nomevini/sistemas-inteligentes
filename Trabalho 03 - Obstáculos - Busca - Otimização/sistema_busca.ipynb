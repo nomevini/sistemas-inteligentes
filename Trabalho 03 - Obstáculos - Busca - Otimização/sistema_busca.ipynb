{
 "cells": [
  {
   "cell_type": "code",
   "execution_count": 162,
   "id": "b8634fed-f636-4c3a-a735-4bf89ce29e33",
   "metadata": {
    "tags": []
   },
   "outputs": [],
   "source": [
    "import numpy as np\n",
    "from random import randint\n",
    "import matplotlib.pyplot as plt\n",
    "import matplotlib.patches as patches\n",
    "from shapely.geometry import LineString, Polygon\n",
    "\n",
    "from collections import deque"
   ]
  },
  {
   "cell_type": "markdown",
   "id": "d12c83a1-e05c-406f-96ce-2aeb4f262f3a",
   "metadata": {},
   "source": [
    "# 1º Etapa - Criar os obstaculos e os pontos iniciais e finais\n",
    "\n",
    "Essa etapa consiste em criar um mapa de proporção MxN, capaz de alocar todos os obstaculos e os pontos iniciais e finais;\n",
    "\n",
    "Observações:\n",
    "\n",
    "- Todos os obstaculos devem ser gerados automaticamente\n",
    "- Todos os obstaculos devem estar dentro do espaço do mapa (Caso aconteça, sortear uma nova posição)\n",
    "- Nenhum obstaculo deve sobrepor o outro (Caso aconteça, sortear uma nova posição)\n",
    "\n",
    "- para coordenadas, seguir a seguinte ordem para os valores em um array\n",
    "\n",
    "0-----1 <br>\n",
    "2-----3\n"
   ]
  },
  {
   "cell_type": "markdown",
   "id": "1ca8e4bf-97f7-4e37-bbf7-e94107e88da2",
   "metadata": {},
   "source": [
    "# Função para validar coordenada\n",
    "\n",
    "Essa função tem como objetivo receber um ponto e verificar se esse ponto está compreendido dentro de um retangulo de coordenadas.\n",
    "\n",
    "A função é útil para os seguintes casos:\n",
    "- Verificar se o ponto está dentro do mapa;\n",
    "- Verificar se um ponto de um obstaculo não sobrepoe outro obstaculo;"
   ]
  },
  {
   "cell_type": "code",
   "execution_count": 163,
   "id": "44e4bd2f-5174-4727-8946-315c7844ac1b",
   "metadata": {
    "tags": []
   },
   "outputs": [],
   "source": [
    "def coordenada_valida(ponto, x_min_mapa, y_min_mapa, x_max_mapa, y_max_mapa):\n",
    "    '''\n",
    "    ponto: [x,y]\n",
    "    x_min: Coordenada x minima do mapa\n",
    "    y_min: Coordenada y minima do mapa\n",
    "    x_max: Coordenada x máxima do mapa\n",
    "    y_max: Coordenada y máxima do mapa\n",
    "    \n",
    "    retorna True caso seja no intervalo e False caso a coordenada seja inválida\n",
    "    \n",
    "    '''\n",
    "    return x_min_mapa <= ponto[0] <= x_max_mapa and y_min_mapa <= ponto[1] <= y_max_mapa   "
   ]
  },
  {
   "cell_type": "markdown",
   "id": "8bf02fd0-66dc-4702-84ef-abc8efae4f8c",
   "metadata": {},
   "source": [
    "# Função Obstaculo Sobreposto\n",
    "\n",
    "Essa função tem como objetivo verificar se algum ponto (x,y) do novo obstaculo criado está dentro de um obstaculo criado anteriormente."
   ]
  },
  {
   "cell_type": "code",
   "execution_count": 164,
   "id": "a764a0e7-69ca-425e-b3da-1c85e48080b1",
   "metadata": {
    "tags": []
   },
   "outputs": [],
   "source": [
    "def obstaculo_sobreposto(novo_obstaculo, obstaculos):\n",
    "    '''\n",
    "    novo_obstaculo: lista com os pontos do novo obstaculo -> [[x,y], [x,y], [x,y], [x,y]]\n",
    "    obstaculos: lista com todos os obstaculos já criados -> [[[x,y], [x,y], [x,y], [x,y]] , [[x,y], [x,y], [x,y], [x,y]]]\n",
    "    \n",
    "    \n",
    "    retornar True se os obstaculos se sobrepoe. False caso não se sobrepoe.\n",
    "    '''\n",
    "    \n",
    "    for obstaculo in obstaculos:\n",
    "        # obstaculo -> [[x,y], [x,y], [x,y], [x,y]]\n",
    "        for ponto in novo_obstaculo:\n",
    "            # ponto [x,y]\n",
    "            # A função coordenada_valida retorna true se o ponto estiver dentro do \"mapa\".\n",
    "            # Nesse caso, se o ponto do novo obstaculo estiver dentro do mapa(coordenadas do obstaculo anterior)\n",
    "            # significa dizer que o obstaculo sobrepoe o outro\n",
    "            if coordenada_valida(ponto, obstaculo[0][0], obstaculo[0][1], obstaculo[3][0], obstaculo[3][1]):\n",
    "                # obstaculos se sobrepoe\n",
    "                return True\n",
    "        \n",
    "    return False"
   ]
  },
  {
   "cell_type": "markdown",
   "id": "5e8308c2-b1ce-432e-a0a2-71352655f398",
   "metadata": {},
   "source": [
    "# Criando o Mapa\n",
    "\n",
    "Essa função deve criar:\n",
    "\n",
    "- O espaço do mapa;\n",
    "- Os pontos de início e fim;\n",
    "- Os obstaculos, que são gerados aleatoriamente;"
   ]
  },
  {
   "cell_type": "code",
   "execution_count": 165,
   "id": "60769fa5-26af-48f5-8a61-d2e78e87334e",
   "metadata": {
    "tags": []
   },
   "outputs": [],
   "source": [
    "def criar_mapa(max_mapa, tam_obstaculo, qtd_obstaculos, coordenada_inicial, coordenada_final):\n",
    "    '''\n",
    "    tam_obstaculo: valor que corresponde a proporção do obstaculo. ex: 10 (obstaculo 10x10)\n",
    "    qtd_obstaculos: quantidade de obstaculos a serem gerados\n",
    "    coordenada_inicial: coordenada x,y do ponto de partida\n",
    "    coordenada_final: coordenada x,y do ponto final\n",
    "    '''\n",
    "    try:\n",
    "        \n",
    "        mapa = np.array([[0,0], [0, max_mapa], [max_mapa, 0], [max_mapa, max_mapa]])\n",
    "        \n",
    "        # verificar se as coordenadas de inicio estão dentro do mapa\n",
    "        if not coordenada_valida(coordenada_inicial, mapa[0][0], mapa[0][1], mapa[3][0], mapa[3][1]):\n",
    "            raise ValueError('Coordenada incial inválida')\n",
    "            \n",
    "        # verificar se as coordenadas final estão dentro do mapa\n",
    "        if not coordenada_valida(coordenada_final, mapa[0][0], mapa[0][1], mapa[3][0], mapa[3][1]):\n",
    "            raise ValueError('Coordenada Final inválida')\n",
    "            \n",
    "        '''\n",
    "        Criar obstaculos \n",
    "        \n",
    "        - Sortear um ponto x,y com tamanho maximo e minimo compreendido no tamanho do mapa\n",
    "        - verificar se esse ponto com o tamanho do obstaculo nao ultrapassa o espaço do mapa\n",
    "        '''    \n",
    "        \n",
    "        # verificar se o tamanho do obstaculo é maior que o tamanho do mapa\n",
    "        if tam_obstaculo >= max_mapa:\n",
    "            raise ValueError(\"Obstaculo muito grande para o mapa\")\n",
    "        \n",
    "        x = 0\n",
    "        contador = 0\n",
    "        obstaculos = []\n",
    "        while x < qtd_obstaculos:\n",
    "            \n",
    "            if contador == (qtd_obstaculos * 100) + 1000:\n",
    "                raise ValueError('Muitas tentativas de inserir os obstaculos. Ajuste o tamanho dos obstáculos ou o tamanho do mapa')\n",
    "            \n",
    "            x_min_obstaculo = randint(mapa[0][0], mapa[3][1])\n",
    "            y_min_obstaculo = randint(mapa[0][0], mapa[3][1])\n",
    "            \n",
    "            ponto1 = [x_min_obstaculo, y_min_obstaculo]\n",
    "            ponto2 = [x_min_obstaculo, y_min_obstaculo + tam_obstaculo]\n",
    "            ponto3 = [x_min_obstaculo + tam_obstaculo, y_min_obstaculo]\n",
    "            ponto4 = [x_min_obstaculo + tam_obstaculo, y_min_obstaculo + tam_obstaculo]\n",
    "            \n",
    "            \n",
    "            # Verificar se algum ponto do obstaculo ultrapassa o mapa\n",
    "            # caso ultrapassar, essa repetição será ignorada (continue) e será gerado uma nova posição para o retangulo\n",
    "            if not coordenada_valida(ponto2, mapa[0][0], mapa[0][1], mapa[3][0], mapa[3][1]):\n",
    "                contador+=1\n",
    "                continue\n",
    "                \n",
    "            if not coordenada_valida(ponto3, mapa[0][0], mapa[0][1], mapa[3][0], mapa[3][1]):\n",
    "                contador+=1\n",
    "                continue\n",
    "                \n",
    "            if not coordenada_valida(ponto4, mapa[0][0], mapa[0][1], mapa[3][0], mapa[3][1]):\n",
    "                contador+=1\n",
    "                continue\n",
    "                \n",
    "            # verificar se algum obstaculo sobrepoe o ponto inicial ou final\n",
    "            # se retornar true, significa que o obstaculo está no mesmo espaço do ponto, então deve ser gerado um novo obstaculo\n",
    "            if coordenada_valida(coordenada_inicial, ponto1[0], ponto1[1], ponto4[0], ponto4[1]):\n",
    "                contador+=1\n",
    "                continue\n",
    "                \n",
    "            if coordenada_valida(coordenada_final, ponto1[0], ponto1[1], ponto4[0], ponto4[1]):\n",
    "                contador+=1\n",
    "                continue\n",
    "                \n",
    "            # verificar se algum obstaculo sobrepoe outro já existente\n",
    "            resultado_sobreposto = obstaculo_sobreposto([ponto1, ponto2, ponto3, ponto4], obstaculos)\n",
    "            \n",
    "            if resultado_sobreposto:\n",
    "                contador += 1\n",
    "                continue\n",
    "            \n",
    "            # pontos do obstaculo válido, criar lista com todos os pontos\n",
    "            obstaculos.append([ponto1, ponto2, ponto3, ponto4])\n",
    "            x += 1\n",
    "            \n",
    "        resultados = {}\n",
    "        resultados['mapa'] = mapa\n",
    "        resultados['coordenada_inicial'] = coordenada_inicial\n",
    "        resultados['coordenada_final'] = coordenada_final\n",
    "        resultados['obstaculos'] = obstaculos\n",
    "        \n",
    "        return resultados\n",
    "    except ValueError as e:\n",
    "        print(f'Error: {e}')"
   ]
  },
  {
   "cell_type": "code",
   "execution_count": 166,
   "id": "eb76708b-72db-43be-8047-286bb9fd7e68",
   "metadata": {
    "tags": []
   },
   "outputs": [
    {
     "data": {
      "text/plain": [
       "{'mapa': array([[  0,   0],\n",
       "        [  0, 100],\n",
       "        [100,   0],\n",
       "        [100, 100]]),\n",
       " 'coordenada_inicial': [2, 2],\n",
       " 'coordenada_final': [90, 90],\n",
       " 'obstaculos': [[[15, 50], [15, 60], [25, 50], [25, 60]],\n",
       "  [[44, 89], [44, 99], [54, 89], [54, 99]]]}"
      ]
     },
     "execution_count": 166,
     "metadata": {},
     "output_type": "execute_result"
    }
   ],
   "source": [
    "#coordenada_inicial = [0, 0] # definir no inicio do mapa\n",
    "#valor_coordenada_final = random * tam_obstaculo + 10\n",
    "#coordenada_final = [valor_coordenada_final - 1, valor_coordenada_final - 1] # definir no final do mapa\n",
    "\n",
    "tam_obstaculo = 10\n",
    "qtd_obstaculos = 2\n",
    "coordenada_inicial = [2, 2]\n",
    "coordenada_final = [90, 90]\n",
    "max_mapa = 100\n",
    "\n",
    "mapa = criar_mapa(max_mapa, tam_obstaculo, qtd_obstaculos, coordenada_inicial, coordenada_final)\n",
    "mapa"
   ]
  },
  {
   "cell_type": "markdown",
   "id": "5dd13cb4-3cd5-49f0-a16c-e9fcdaa4ebe0",
   "metadata": {},
   "source": [
    "# Plotando o Mapa"
   ]
  },
  {
   "cell_type": "code",
   "execution_count": 167,
   "id": "dbda97ee-ea26-470b-8ec9-0a45112af0e7",
   "metadata": {
    "tags": []
   },
   "outputs": [
    {
     "data": {
      "image/png": "[encoded data removed]",
      "text/plain": [
       "<Figure size 1500x1500 with 1 Axes>"
      ]
     },
     "metadata": {},
     "output_type": "display_data"
    }
   ],
   "source": [
    "# Criando um retângulo\n",
    "retangulo_mapa = patches.Rectangle((mapa['mapa'][0][1], mapa['mapa'][0][0]), mapa['mapa'][3][1], mapa['mapa'][3][0], edgecolor='blue', facecolor='none', label='Mapa')\n",
    "\n",
    "fig, ax = plt.subplots(figsize=(15, 15))\n",
    "\n",
    "# Obstaculos\n",
    "for obstaculo in mapa['obstaculos']: \n",
    "    #obstaculos [[12, 4], [12, 14], [22, 4], [22, 14]]\n",
    "    retangulo_obstaculo = patches.Rectangle((obstaculo[0][0], obstaculo[0][1]), obstaculo[3][1] - obstaculo[0][1], obstaculo[3][0] - obstaculo[0][0], edgecolor='red', facecolor='red')\n",
    "    ax.add_patch(retangulo_obstaculo)\n",
    "\n",
    "\n",
    "# limite do plot\n",
    "plt.xlim(mapa['mapa'][0][0] - 0.5, mapa['mapa'][3][1] + 0.5)\n",
    "plt.ylim(mapa['mapa'][0][0] - 0.5, mapa['mapa'][3][0] + 0.5)\n",
    "\n",
    "ax.add_patch(retangulo_mapa) # adicionando Mapa\n",
    "\n",
    "# Adicionar os pontos de início e fim\n",
    "inicio = tuple(mapa['coordenada_inicial'])\n",
    "fim = tuple(mapa['coordenada_final'])\n",
    "plt.plot(*inicio, 'go', label='Início')\n",
    "plt.plot(*fim, 'ro', label='Fim')\n",
    "\n",
    "plt.gca().invert_yaxis() # Inverte o eixo Y (Para ficar parecido com o crescimento de uma matriz\n",
    "\n",
    "# Adicionando legendas\n",
    "#plt.legend()\n",
    "\n",
    "plt.title('Mapa de Obstáculos')\n",
    "plt.grid(True)\n",
    "plt.gca().set_aspect('equal', adjustable='box')  # Mantém a proporção dos eixos\n",
    "\n",
    "# Exibindo o gráfico\n",
    "plt.show()"
   ]
  },
  {
   "cell_type": "markdown",
   "id": "087dcf36-ac57-42c2-8ede-be887efd87c3",
   "metadata": {},
   "source": [
    "# Determinar se os segmentos de retas entre os pontos se interceptam\n",
    "\n",
    "Essa etapa consiste em verificar se um segmento do caminho entre o inicial e o final choca com o segmento de reta de um obstaculo. Se isso acontecer, siginifica que o caminho encontrado atualmente está atravessando algum obstaculo."
   ]
  },
  {
   "cell_type": "markdown",
   "id": "4dc48148-503d-4ed0-8e77-468889d8660f",
   "metadata": {
    "tags": []
   },
   "source": [
    "###  Etapa que devemos fazer para a criação de cada nó (filhos de um nó pai)\n",
    "0 - Do ponto atual, traçar caminho para todos os vertices possíveis (incluindo para o vertice final)\n",
    "1 - Quais são os vertices possíveis:\n",
    "1.1 Vertice não visitado\n",
    "1.2 Se eu estiver em um obstaculo, vertice que possui mesma linha ou mesma coluna + valor do tamanho do obstaculo\n",
    "1.3 vertice que não intercepta nenhum segmento de reta dos obstaculo"
   ]
  },
  {
   "cell_type": "code",
   "execution_count": 168,
   "id": "42983cab-fe59-481b-b62d-4dbdc3763ee1",
   "metadata": {
    "tags": []
   },
   "outputs": [],
   "source": [
    "'''\n",
    "Recebe um segmento de reta euma lista de obstaculos\n",
    "'''\n",
    "\n",
    "def intercepta(segmento_caminho, obstaculos):\n",
    "    '''\n",
    "    segmento_caminho: [[x,y], [x,y]]\n",
    "    obstaculos: [[[x, y], [x, y], [x, y], [x, y]], [[x, y], [x, y], [x, y], [x, y]]]\n",
    "    \n",
    "    Retorna True se houver interseção do segmento com um obstaculo.\n",
    "    False caso não haja interseção\n",
    "    '''\n",
    "    segmento_caminho_linestring = LineString([segmento_caminho[0], segmento_caminho[1]])\n",
    "    \n",
    "    for obstaculo in obstaculos:\n",
    "        '''\n",
    "        obstaculo = [[40, 46], [40, 56], [50, 46], [50, 56]]\n",
    "        '''\n",
    "        obstaculo_linestrings = []\n",
    "        obstaculo_linestrings.append(LineString([obstaculo[0], obstaculo[1]]))\n",
    "        obstaculo_linestrings.append(LineString([obstaculo[0], obstaculo[2]]))\n",
    "        obstaculo_linestrings.append(LineString([obstaculo[1], obstaculo[3]]))\n",
    "        obstaculo_linestrings.append(LineString([obstaculo[2], obstaculo[3]]))\n",
    "        \n",
    "        for linestring in obstaculo_linestrings:\n",
    "                \n",
    "            if segmento_caminho_linestring.intersects(linestring):\n",
    "                # aqui eu devo excluir os casos especiais\n",
    "                \n",
    "                if segmento_caminho[0] in obstaculo and segmento_caminho[1] in obstaculo:\n",
    "                # é um segmento dentro do obstaculo\n",
    "                    if segmento_caminho[0][0] != segmento_caminho[1][0] and segmento_caminho[0][1] != segmento_caminho[1][1]:\n",
    "                        # segmento em diagonal do quadrado\n",
    "                        return True\n",
    "                else:\n",
    "                    ponto = segmento_caminho_linestring.intersection(linestring)\n",
    "                    if not ponto.is_empty:\n",
    "                        # o ponto de interseção não é igual ao ponto do segmento\n",
    "                        if len(list(ponto.coords)) > 1:\n",
    "                            return True\n",
    "                        \n",
    "                        ponto = [ponto.x, ponto.y]\n",
    "                        if not ponto in segmento_caminho:\n",
    "                            return True\n",
    "                    \n",
    "                \n",
    "    return False\n"
   ]
  },
  {
   "cell_type": "code",
   "execution_count": 170,
   "id": "0b19902c-ff89-4331-9aac-3cc70974e1db",
   "metadata": {
    "tags": []
   },
   "outputs": [],
   "source": [
    "class No:\n",
    "    def __init__(self, pai=None, vertice=None, visitados=None):\n",
    "        self.pai = pai\n",
    "        self.vertice = vertice\n",
    "        self.filhos = []  # Usando uma lista para os filhos\n",
    "        self.visitados = visitados if visitados is not None else set()  # Se nenhum conjunto de visitados for fornecido, cria um novo conjunto\n",
    "\n",
    "    def vertice_visitado(self, vertice):\n",
    "        \"\"\"\n",
    "        Verifica se o vértice já foi visitado.\n",
    "        \"\"\"\n",
    "        return tuple(vertice) in self.visitados\n",
    "\n",
    "    def criar_filhos(self, mapa):\n",
    "        \"\"\"\n",
    "        Cria nós para cada vértice que pode ser visitado no mapa, evitando vértices já visitados.\n",
    "        \"\"\"\n",
    "        if not intercepta([self.vertice, mapa['coordenada_final']], mapa['obstaculos']):\n",
    "            novo_visitados = self.visitados.copy()\n",
    "            novo_visitados.add(tuple(mapa['coordenada_final']))\n",
    "            no = No(pai=self, vertice=mapa['coordenada_final'], visitados=novo_visitados)\n",
    "            self.filhos.append(no)\n",
    "\n",
    "        for obstaculo in mapa['obstaculos']:\n",
    "            for vertice_obstaculo in obstaculo:\n",
    "                if self.vertice == vertice_obstaculo:\n",
    "                    continue\n",
    "                if self.vertice_visitado(vertice_obstaculo):\n",
    "                    continue\n",
    "                if not intercepta([self.vertice, vertice_obstaculo], mapa['obstaculos']):\n",
    "                    novo_visitados = self.visitados.copy()\n",
    "                    novo_visitados.add(tuple(vertice_obstaculo))\n",
    "                    no = No(pai=self, vertice=vertice_obstaculo, visitados=novo_visitados)\n",
    "                    self.filhos.append(no)"
   ]
  },
  {
   "cell_type": "code",
   "execution_count": 171,
   "id": "8f114f46-8744-4ace-bee7-9320129a55d6",
   "metadata": {
    "tags": []
   },
   "outputs": [],
   "source": [
    "def criar_arvore():\n",
    "    '''\n",
    "    Cria o nó raiz e uma fila de criação dos filhos de cada nó\n",
    "    \n",
    "    Retorna a raiz da árvore \n",
    "    '''\n",
    "    raiz = No(vertice=mapa['coordenada_inicial'])\n",
    "    fila = deque([raiz])  # Usar deque em vez de lista para a fila\n",
    "    \n",
    "    while fila:\n",
    "        no = fila.popleft()  # Remover da esquerda em vez de pop(0)\n",
    "        \n",
    "        # Criar filhos\n",
    "        if no.vertice != mapa['coordenada_final']:  # Enquanto o vértice atual não for o ponto final\n",
    "            no.criar_filhos(mapa)\n",
    "            fila.extend(no.filhos)\n",
    "    \n",
    "    return raiz\n"
   ]
  },
  {
   "cell_type": "code",
   "execution_count": 172,
   "id": "a78abe6f-944f-479e-9b87-04e4da57a4bd",
   "metadata": {
    "tags": []
   },
   "outputs": [],
   "source": [
    "# Criar a árvore\n",
    "raiz = criar_arvore()"
   ]
  },
  {
   "cell_type": "code",
   "execution_count": 173,
   "id": "c93ab47b-1acf-4279-be64-ef9f7715f4ad",
   "metadata": {
    "tags": []
   },
   "outputs": [],
   "source": [
    "def encontrar_caminhos(raiz):\n",
    "    \"\"\"\n",
    "    Encontra todos os caminhos possíveis da raiz até o ponto final na árvore.\n",
    "    \"\"\"\n",
    "    caminhos = []\n",
    "    \n",
    "    def _encontrar_caminhos(no_atual, caminho_atual):\n",
    "        caminho_atual.append(no_atual.vertice)\n",
    "        \n",
    "        if no_atual.vertice == mapa['coordenada_final']:\n",
    "            caminhos.append(list(caminho_atual))  # Copia o caminho encontrado\n",
    "        else:\n",
    "            for filho in no_atual.filhos:\n",
    "                _encontrar_caminhos(filho, caminho_atual)\n",
    "        \n",
    "        caminho_atual.pop()  # Remove o vértice atual do caminho\n",
    "\n",
    "    _encontrar_caminhos(raiz, [])\n",
    "    \n",
    "    return caminhos\n"
   ]
  },
  {
   "cell_type": "code",
   "execution_count": 174,
   "id": "0428bd3b-1282-4fed-9208-a78ebe7aea87",
   "metadata": {
    "tags": []
   },
   "outputs": [],
   "source": [
    "# Encontrar os caminhos\n",
    "caminhos = encontrar_caminhos(raiz)"
   ]
  },
  {
   "cell_type": "markdown",
   "id": "34e9737c-c167-436c-8a22-b448a457656e",
   "metadata": {},
   "source": [
    "# Plotar caminhos no mapa"
   ]
  },
  {
   "cell_type": "code",
   "execution_count": 175,
   "id": "7b79945b-34a0-4480-93e8-579587542dc8",
   "metadata": {
    "tags": []
   },
   "outputs": [],
   "source": [
    "# Função para plotar uma única reta\n",
    "def plotar_reta(coordenadas):\n",
    "    x = [ponto[0] for ponto in coordenadas]\n",
    "    y = [ponto[1] for ponto in coordenadas]\n",
    "    plt.plot(x, y, color='blue', linestyle='-')\n",
    "    plt.plot(x, y, color='red', marker='o', markersize=3, linestyle='None')  \n"
   ]
  },
  {
   "cell_type": "code",
   "execution_count": 176,
   "id": "773cd54a-5443-4b99-8263-e9b889ed48e6",
   "metadata": {
    "tags": []
   },
   "outputs": [
    {
     "data": {
      "image/png": "[encoded data removed]",
      "text/plain": [
       "<Figure size 1500x1500 with 1 Axes>"
      ]
     },
     "metadata": {},
     "output_type": "display_data"
    }
   ],
   "source": [
    "# Criando um retângulo\n",
    "retangulo_mapa = patches.Rectangle((mapa['mapa'][0][1], mapa['mapa'][0][0]), mapa['mapa'][3][1], mapa['mapa'][3][0], edgecolor='blue', facecolor='none', label='Mapa')\n",
    "\n",
    "fig, ax = plt.subplots(figsize=(15, 15))\n",
    "\n",
    "# Obstaculos\n",
    "for obstaculo in mapa['obstaculos']: \n",
    "    #obstaculos [[12, 4], [12, 14], [22, 4], [22, 14]]\n",
    "    retangulo_obstaculo = patches.Rectangle((obstaculo[0][0], obstaculo[0][1]), obstaculo[3][1] - obstaculo[0][1], obstaculo[3][0] - obstaculo[0][0], edgecolor='red', facecolor='red')\n",
    "    ax.add_patch(retangulo_obstaculo)\n",
    "\n",
    "\n",
    "# limite do plot\n",
    "plt.xlim(mapa['mapa'][0][0] - 0.5, mapa['mapa'][3][1] + 0.5)\n",
    "plt.ylim(mapa['mapa'][0][0] - 0.5, mapa['mapa'][3][0] + 0.5)\n",
    "\n",
    "ax.add_patch(retangulo_mapa) # adicionando Mapa\n",
    "\n",
    "# Plotar todas as retas\n",
    "for coordenadas in caminhos:\n",
    "    plotar_reta(coordenadas)\n",
    "\n",
    "# Adicionar os pontos de início e fim\n",
    "inicio = tuple(mapa['coordenada_inicial'])\n",
    "fim = tuple(mapa['coordenada_final'])\n",
    "plt.plot(*inicio, 'go', label='Início')\n",
    "plt.plot(*fim, 'ro', label='Fim')\n",
    "\n",
    "plt.gca().invert_yaxis() # Inverte o eixo Y (Para ficar parecido com o crescimento de uma matriz\n",
    "\n",
    "# Adicionando legendas\n",
    "#plt.legend()\n",
    "\n",
    "plt.title('Mapa de Obstáculos')\n",
    "plt.grid(True)\n",
    "plt.gca().set_aspect('equal', adjustable='box')  # Mantém a proporção dos eixos\n",
    "\n",
    "# Exibindo o gráfico\n",
    "plt.show()"
   ]
  },
  {
   "cell_type": "markdown",
   "id": "163b7141-5b05-4d57-bee1-e2ba8a0257ea",
   "metadata": {},
   "source": [
    "# Encontrar menor caminho"
   ]
  },
  {
   "cell_type": "code",
   "execution_count": 13,
   "id": "4d4e615b-eb0d-4d22-9283-73864064ed0c",
   "metadata": {
    "tags": []
   },
   "outputs": [],
   "source": [
    "'''\n",
    "    Calcula a distância euclidiana entre dois pontos.\n",
    "'''\n",
    "def distancia_euclidiana(ponto1, ponto2):\n",
    "    '''\n",
    "        ponto1: [x,y]\n",
    "        ponto2: [x,y]\n",
    "    \n",
    "        Retorna a distância euclidiana entre os dois pontos.\n",
    "    '''\n",
    "    x1, y1 = ponto1\n",
    "    x2, y2 = ponto2\n",
    "    \n",
    "    distancia = ((x2 - x1) ** 2 + (y2 - y1) ** 2) ** 0.5\n",
    "    \n",
    "    return distancia"
   ]
  },
  {
   "cell_type": "code",
   "execution_count": null,
   "id": "96e154cc-8f19-4395-a2aa-7f58ac0a2b39",
   "metadata": {},
   "outputs": [],
   "source": []
  }
 ],
 "metadata": {
  "kernelspec": {
   "display_name": "Python 3 (ipykernel)",
   "language": "python",
   "name": "python3"
  },
  "language_info": {
   "codemirror_mode": {
    "name": "ipython",
    "version": 3
   },
   "file_extension": ".py",
   "mimetype": "text/x-python",
   "name": "python",
   "nbconvert_exporter": "python",
   "pygments_lexer": "ipython3",
   "version": "3.11.5"
  }
 },
 "nbformat": 4,
 "nbformat_minor": 5
}
