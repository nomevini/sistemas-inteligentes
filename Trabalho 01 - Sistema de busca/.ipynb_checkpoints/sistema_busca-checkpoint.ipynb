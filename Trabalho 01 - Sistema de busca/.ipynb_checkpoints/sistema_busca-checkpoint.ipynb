{
 "cells": [
  {
   "cell_type": "code",
   "execution_count": 188,
   "id": "b8634fed-f636-4c3a-a735-4bf89ce29e33",
   "metadata": {
    "tags": []
   },
   "outputs": [],
   "source": [
    "import numpy as np\n",
    "from random import randint\n",
    "import matplotlib.pyplot as plt\n",
    "import matplotlib.patches as patches\n",
    "from shapely.geometry import LineString"
   ]
  },
  {
   "cell_type": "markdown",
   "id": "d12c83a1-e05c-406f-96ce-2aeb4f262f3a",
   "metadata": {},
   "source": [
    "# 1º Etapa - Criar os obstaculos e os pontos iniciais e finais\n",
    "\n",
    "Essa etapa consiste em criar um mapa de proporção MxN, capaz de alocar todos os obstaculos e os pontos iniciais e finais;\n",
    "\n",
    "Observações:\n",
    "\n",
    "- Todos os obstaculos devem ser gerados automaticamente\n",
    "- Todos os obstaculos devem estar dentro do espaço do mapa (Caso aconteça, sortear uma nova posição)\n",
    "- Nenhum obstaculo deve sobrepor o outro (Caso aconteça, sortear uma nova posição)\n",
    "\n",
    "- para coordenadas, seguir a seguinte ordem para os valores em um array\n",
    "\n",
    "0-----1 <br>\n",
    "2-----3\n"
   ]
  },
  {
   "cell_type": "markdown",
   "id": "1ca8e4bf-97f7-4e37-bbf7-e94107e88da2",
   "metadata": {},
   "source": [
    "# Função para validar coordenada\n",
    "\n",
    "Essa função tem como objetivo receber um ponto e verificar se esse ponto está compreendido dentro de um retangulo de coordenadas.\n",
    "\n",
    "A função é útil para os seguintes casos:\n",
    "- Verificar se o ponto está dentro do mapa;\n",
    "- Verificar se um ponto de um obstaculo não sobrepoe outro obstaculo;"
   ]
  },
  {
   "cell_type": "code",
   "execution_count": 189,
   "id": "44e4bd2f-5174-4727-8946-315c7844ac1b",
   "metadata": {
    "tags": []
   },
   "outputs": [],
   "source": [
    "def coordenada_valida(ponto, x_min_mapa, y_min_mapa, x_max_mapa, y_max_mapa):\n",
    "    '''\n",
    "    ponto: [x,y]\n",
    "    x_min: Coordenada x minima do mapa\n",
    "    y_min: Coordenada y minima do mapa\n",
    "    x_max: Coordenada x máxima do mapa\n",
    "    y_max: Coordenada y máxima do mapa\n",
    "    \n",
    "    retorna True caso seja no intervalo e False caso a coordenada seja inválida\n",
    "    \n",
    "    '''\n",
    "    return x_min_mapa <= ponto[0] <= x_max_mapa and y_min_mapa <= ponto[1] <= y_max_mapa   "
   ]
  },
  {
   "cell_type": "markdown",
   "id": "8bf02fd0-66dc-4702-84ef-abc8efae4f8c",
   "metadata": {},
   "source": [
    "# Função Obstaculo Sobreposto\n",
    "\n",
    "Essa função tem como objetivo verificar se algum ponto (x,y) do novo obstaculo criado está dentro de um obstaculo criado anteriormente."
   ]
  },
  {
   "cell_type": "code",
   "execution_count": 190,
   "id": "a764a0e7-69ca-425e-b3da-1c85e48080b1",
   "metadata": {},
   "outputs": [],
   "source": [
    "def obstaculo_sobreposto(novo_obstaculo, obstaculos):\n",
    "    '''\n",
    "    novo_obstaculo: lista com os pontos do novo obstaculo -> [[x,y], [x,y], [x,y], [x,y]]\n",
    "    obstaculos: lista com todos os obstaculos já criados -> [[[x,y], [x,y], [x,y], [x,y]] , [[x,y], [x,y], [x,y], [x,y]]]\n",
    "    \n",
    "    \n",
    "    retornar True se os obstaculos se sobrepoe. False caso não se sobrepoe.\n",
    "    '''\n",
    "    \n",
    "    for obstaculo in obstaculos:\n",
    "        # obstaculo -> [[x,y], [x,y], [x,y], [x,y]]\n",
    "        for ponto in novo_obstaculo:\n",
    "            # ponto [x,y]\n",
    "            # A função coordenada_valida retorna true se o ponto estiver dentro do \"mapa\".\n",
    "            # Nesse caso, se o ponto do novo obstaculo estiver dentro do mapa(coordenadas do obstaculo anterior)\n",
    "            # significa dizer que o obstaculo sobrepoe o outro\n",
    "            if coordenada_valida(ponto, obstaculo[0][0], obstaculo[0][1], obstaculo[3][0], obstaculo[3][1]):\n",
    "                # obstaculos se sobrepoe\n",
    "                return True\n",
    "        \n",
    "    return False"
   ]
  },
  {
   "cell_type": "markdown",
   "id": "5e8308c2-b1ce-432e-a0a2-71352655f398",
   "metadata": {},
   "source": [
    "# Criando o Mapa\n",
    "\n",
    "Essa função deve criar:\n",
    "\n",
    "- O espaço do mapa;\n",
    "- Os pontos de início e fim;\n",
    "- Os obstaculos, que são gerados aleatoriamente;"
   ]
  },
  {
   "cell_type": "code",
   "execution_count": 242,
   "id": "24986fbc-374c-4d80-a469-e35783653cf9",
   "metadata": {
    "tags": []
   },
   "outputs": [],
   "source": [
    "def criar_mapa(tam_obstaculo, qtd_obstaculos, coordenada_inicial, coordenada_final):\n",
    "    '''\n",
    "    tam_obstaculo: valor que corresponde a proporção do obstaculo. ex: 10 (obstaculo 10x10)\n",
    "    qtd_obstaculos: quantidade de obstaculos a serem gerados\n",
    "    coordenada_inicial: coordenada x,y do ponto de partida\n",
    "    coordenada_final: coordenada x,y do ponto final\n",
    "    '''\n",
    "    try:\n",
    "        \n",
    "        max_mapa = qtd_obstaculos * tam_obstaculo + 10\n",
    "        \n",
    "        mapa = np.array([[0,0], [0, max_mapa], [max_mapa, 0], [max_mapa, max_mapa]])\n",
    "        \n",
    "        # verificar se as coordenadas de inicio estão dentro do mapa\n",
    "        if not coordenada_valida(coordenada_inicial, mapa[0][0], mapa[0][1], mapa[3][0], mapa[3][1]):\n",
    "            raise ValueError('Coordenada incial inválida')\n",
    "            \n",
    "        # verificar se as coordenadas final estão dentro do mapa\n",
    "        if not coordenada_valida(coordenada_final, mapa[0][0], mapa[0][1], mapa[3][0], mapa[3][1]):\n",
    "            raise ValueError('Coordenada Final inválida')\n",
    "            \n",
    "        '''\n",
    "        Criar obstaculos \n",
    "        \n",
    "        - Sortear um ponto x,y com tamanho maximo e minimo compreendido no tamanho do mapa\n",
    "        - verificar se esse ponto com o tamanho do obstaculo nao ultrapassa o espaço do mapa\n",
    "        '''    \n",
    "        \n",
    "        x = 0\n",
    "        contador = 0\n",
    "        obstaculos = []\n",
    "        while x < qtd_obstaculos:\n",
    "            x_min_obstaculo = randint(mapa[0][0], mapa[3][1])\n",
    "            y_min_obstaculo = randint(mapa[0][0], mapa[3][1])\n",
    "            \n",
    "            ponto1 = [x_min_obstaculo, y_min_obstaculo]\n",
    "            ponto2 = [x_min_obstaculo, y_min_obstaculo + tam_obstaculo]\n",
    "            ponto3 = [x_min_obstaculo + tam_obstaculo, y_min_obstaculo]\n",
    "            ponto4 = [x_min_obstaculo + tam_obstaculo, y_min_obstaculo + tam_obstaculo]\n",
    "            \n",
    "            # Verificar se algum ponto do obstaculo ultrapassa o mapa\n",
    "            # caso ultrapassar, essa repetição será ignorada (continue) e será gerado uma nova posição para o retangulo\n",
    "            if not coordenada_valida(ponto2, mapa[0][0], mapa[0][1], mapa[3][0], mapa[3][1]):\n",
    "                continue\n",
    "                \n",
    "            if not coordenada_valida(ponto3, mapa[0][0], mapa[0][1], mapa[3][0], mapa[3][1]):\n",
    "                continue\n",
    "                \n",
    "            if not coordenada_valida(ponto4, mapa[0][0], mapa[0][1], mapa[3][0], mapa[3][1]):\n",
    "                continue\n",
    "                \n",
    "            # verificar se algum obstaculo sobrepoe outro já existente\n",
    "            resultado_sobreposto = obstaculo_sobreposto([ponto1, ponto2, ponto3, ponto4], obstaculos)\n",
    "            \n",
    "            if resultado_sobreposto and contador < 50:\n",
    "                contador += 1\n",
    "                continue\n",
    "                \n",
    "            if contador == 50:\n",
    "                print('Obstaculos sobrepostos')\n",
    "            \n",
    "            # pontos do obstaculo válido, criar lista com todos os pontos\n",
    "            obstaculos.append([ponto1, ponto2, ponto3, ponto4])\n",
    "            x += 1\n",
    "            \n",
    "        resultados = {}\n",
    "        resultados['mapa'] = mapa\n",
    "        resultados['coordenada_inicial'] = coordenada_inicial\n",
    "        resultados['coordenada_final'] = coordenada_final\n",
    "        resultados['obstaculos'] = obstaculos\n",
    "        \n",
    "        return resultados\n",
    "    except ValueError as e:\n",
    "        print(f'Error: {e}')"
   ]
  },
  {
   "cell_type": "code",
   "execution_count": 294,
   "id": "eb76708b-72db-43be-8047-286bb9fd7e68",
   "metadata": {
    "tags": []
   },
   "outputs": [],
   "source": [
    "tam_obstaculo = 10\n",
    "random = 4\n",
    "coordenada_inicial = [1, 1]\n",
    "\n",
    "valor_coordenada_final = random * tam_obstaculo + 10\n",
    "coordenada_final = [valor_coordenada_final - 1, valor_coordenada_final - 1]"
   ]
  },
  {
   "cell_type": "code",
   "execution_count": 295,
   "id": "1cb4d5fc-f1cc-4771-9896-057894ba4efa",
   "metadata": {
    "tags": []
   },
   "outputs": [
    {
     "data": {
      "text/plain": [
       "{'mapa': array([[ 0,  0],\n",
       "        [ 0, 50],\n",
       "        [50,  0],\n",
       "        [50, 50]]),\n",
       " 'coordenada_inicial': [1, 1],\n",
       " 'coordenada_final': [49, 49],\n",
       " 'obstaculos': [[[17, 22], [17, 32], [27, 22], [27, 32]],\n",
       "  [[31, 36], [31, 46], [41, 36], [41, 46]],\n",
       "  [[35, 19], [35, 29], [45, 19], [45, 29]],\n",
       "  [[1, 28], [1, 38], [11, 28], [11, 38]]]}"
      ]
     },
     "execution_count": 295,
     "metadata": {},
     "output_type": "execute_result"
    }
   ],
   "source": [
    "mapa = criar_mapa(tam_obstaculo, random, coordenada_inicial, coordenada_final)\n",
    "mapa"
   ]
  },
  {
   "cell_type": "markdown",
   "id": "5dd13cb4-3cd5-49f0-a16c-e9fcdaa4ebe0",
   "metadata": {},
   "source": [
    "# Plotando o Mapa"
   ]
  },
  {
   "cell_type": "code",
   "execution_count": 296,
   "id": "dbda97ee-ea26-470b-8ec9-0a45112af0e7",
   "metadata": {
    "tags": []
   },
   "outputs": [
    {
     "data": {
      "image/png": "[encoded data removed]",
      "text/plain": [
       "<Figure size 640x480 with 1 Axes>"
      ]
     },
     "metadata": {},
     "output_type": "display_data"
    }
   ],
   "source": [
    "# Criando um retângulo\n",
    "retangulo_mapa = patches.Rectangle((mapa['mapa'][0][1], mapa['mapa'][0][0]), mapa['mapa'][3][1], mapa['mapa'][3][0], edgecolor='blue', facecolor='none', label='Mapa')\n",
    "\n",
    "fig, ax = plt.subplots()\n",
    "\n",
    "# Obstaculos\n",
    "for obstaculo in mapa['obstaculos']: \n",
    "    #obstaculos [[12, 4], [12, 14], [22, 4], [22, 14]]\n",
    "    retangulo_obstaculo = patches.Rectangle((obstaculo[0][1], obstaculo[0][0]), obstaculo[3][1] - obstaculo[0][1], obstaculo[3][0] - obstaculo[0][0], edgecolor='red', facecolor='red')\n",
    "    ax.add_patch(retangulo_obstaculo)\n",
    "\n",
    "\n",
    "# limite do plot\n",
    "plt.xlim(mapa['mapa'][0][0] - 0.5, mapa['mapa'][3][1] + 0.5)\n",
    "plt.ylim(mapa['mapa'][0][0] - 0.5, mapa['mapa'][3][0] + 0.5)\n",
    "\n",
    "ax.add_patch(retangulo_mapa) # adicionando Mapa\n",
    "\n",
    "# Adicionar os pontos de início e fim\n",
    "inicio = tuple(mapa['coordenada_inicial'])\n",
    "fim = tuple(mapa['coordenada_final'])\n",
    "plt.plot(*inicio, 'go', label='Início')\n",
    "plt.plot(*fim, 'ro', label='Fim')\n",
    "\n",
    "plt.gca().invert_yaxis() # Inverte o eixo Y (Para ficar parecido com o crescimento de uma matriz\n",
    "\n",
    "# Adicionando legendas\n",
    "plt.legend()\n",
    "\n",
    "plt.title('Mapa de Obstáculos')\n",
    "plt.grid(True)\n",
    "plt.gca().set_aspect('equal', adjustable='box')  # Mantém a proporção dos eixos\n",
    "\n",
    "# Exibindo o gráfico\n",
    "plt.show()"
   ]
  },
  {
   "cell_type": "markdown",
   "id": "087dcf36-ac57-42c2-8ede-be887efd87c3",
   "metadata": {},
   "source": [
    "# Determinar se os segmentos de retas entre os pontos se interceptam\n",
    "\n",
    "Essa etapa consiste em verificar se um segmento do caminho entre o inicial e o final choca com o segmento de reta de um obstaculo. Se isso acontecer, siginifica que o caminho encontrado atualmente está atravessando algum obstaculo."
   ]
  },
  {
   "cell_type": "code",
   "execution_count": 297,
   "id": "95c64dcf-5d23-40f8-bd52-35aa3e981bf4",
   "metadata": {
    "tags": []
   },
   "outputs": [
    {
     "data": {
      "text/plain": [
       "{'mapa': array([[ 0,  0],\n",
       "        [ 0, 50],\n",
       "        [50,  0],\n",
       "        [50, 50]]),\n",
       " 'coordenada_inicial': [1, 1],\n",
       " 'coordenada_final': [49, 49],\n",
       " 'obstaculos': [[[17, 22], [17, 32], [27, 22], [27, 32]],\n",
       "  [[31, 36], [31, 46], [41, 36], [41, 46]],\n",
       "  [[35, 19], [35, 29], [45, 19], [45, 29]],\n",
       "  [[1, 28], [1, 38], [11, 28], [11, 38]]]}"
      ]
     },
     "execution_count": 297,
     "metadata": {},
     "output_type": "execute_result"
    }
   ],
   "source": [
    "mapa"
   ]
  },
  {
   "cell_type": "markdown",
   "id": "6f685df8-2365-4e5d-a05b-69b301b6d0c1",
   "metadata": {},
   "source": [
    "A função de produto cruzado é importante na etapa de identificação de intercepção de retas.\n",
    "Ela é util para identificar as extremidades de um segmento estão em lados diferentes em relação a outro segmento."
   ]
  },
  {
   "cell_type": "code",
   "execution_count": 298,
   "id": "4d4e615b-eb0d-4d22-9283-73864064ed0c",
   "metadata": {
    "tags": []
   },
   "outputs": [],
   "source": [
    "'''\n",
    "    Calcula a distância euclidiana entre dois pontos.\n",
    "'''\n",
    "def distancia_euclidiana(ponto1, ponto2):\n",
    "    '''\n",
    "        ponto1: [x,y]\n",
    "        ponto2: [x,y]\n",
    "    \n",
    "        Retorna a distância euclidiana entre os dois pontos.\n",
    "    '''\n",
    "    x1, y1 = ponto1\n",
    "    x2, y2 = ponto2\n",
    "    \n",
    "    distancia = ((x2 - x1) ** 2 + (y2 - y1) ** 2) ** 0.5\n",
    "    \n",
    "    return distancia"
   ]
  },
  {
   "cell_type": "code",
   "execution_count": 299,
   "id": "8273bdb6-97bd-474f-b5cc-7ab2f1971c68",
   "metadata": {
    "tags": []
   },
   "outputs": [],
   "source": [
    "'''\n",
    "Recebe um segmento de reta e uma lista de obstaculos\n",
    "\n",
    "Deve verificar para cada segmento de reta possivel em cada obstaculo se o mesmo \n",
    "se intercepta com o segmento do caminho.\n",
    "'''\n",
    "def listar_intersecoes(segmento_caminho, obstaculos):\n",
    "    '''\n",
    "    segmento_caminho: [[x,y], [x,y]]\n",
    "    obstaculos: [[[x, y], [x, y], [x, y], [x, y]], [[x, y], [x, y], [x, y], [x, y]]]\n",
    "    \n",
    "    \n",
    "    retorna uma lista com os pontos de interseção e uma lista com os segmentos que houve interseção\n",
    "    '''\n",
    "    segmento_caminho_linestring = LineString([segmento_caminho[0], segmento_caminho[1]])\n",
    "    intersecoes = []\n",
    "    segmentos_com_intersecoes = []\n",
    "    \n",
    "    for obstaculo in obstaculos:\n",
    "        '''\n",
    "        obstaculo = [[40, 46], [40, 56], [50, 46], [50, 56]]\n",
    "        '''\n",
    "        obstaculo_linestrings = []\n",
    "        obstaculo_linestrings.append(LineString([obstaculo[0], obstaculo[1]]))\n",
    "        obstaculo_linestrings.append(LineString([obstaculo[0], obstaculo[2]]))\n",
    "        obstaculo_linestrings.append(LineString([obstaculo[1], obstaculo[3]]))\n",
    "        obstaculo_linestrings.append(LineString([obstaculo[2], obstaculo[3]]))\n",
    "        \n",
    "        for linestring in obstaculo_linestrings:\n",
    "            intersecao = segmento_caminho_linestring.intersection(linestring)\n",
    "            if not intersecao.is_empty:\n",
    "                intersecoes.append([intersecao.x, intersecao.y])\n",
    "                segmentos_com_intersecoes.append(list(linestring.coords))\n",
    "                \n",
    "    return intersecoes, segmentos_com_intersecoes"
   ]
  },
  {
   "cell_type": "markdown",
   "id": "4dc48148-503d-4ed0-8e77-468889d8660f",
   "metadata": {
    "tags": []
   },
   "source": [
    "###  Etapa que devemos fazer para a criação do caminho\n",
    "0 - Criar uma lista de segmentos para os segmentos do caminho <br>\n",
    "1 - Traçar um segmento de reta do ponto atual para o ponto final (no inicio, o ponto atual é o inicio do caminho) <br>\n",
    "3 - Verificar se esse segmento de reta possui interseções com algum segmento de reta dos obstaculos <br>\n",
    "4 - A função retorna o ponto de interseção e qual o segmento que houve intersecção <br>\n",
    "5 - Descobrir qual foi o primeiro segmento de reta que houve choque (será o segmento com a menor distância euclidiana do ponto atual) <br>\n",
    "6 - Adicionar no caminho um segmento de reta do ponto atual até o ponto de interseção do segmento mais próximo <br>\n",
    "6.1 - Ponto atual se torna o ponto de interseção <br>\n",
    "7 - Descobrir qual dos vertices do segmento mais próximo possui distancia euclidiana menor em relação ao ponto final <br>\n",
    "8 - Adicionar ao caminho o segmento de reta do ponto de interseção até o vertice daquele segmento de reta do obstaculo. <br>\n",
    "9 - ponto atual se torna o vertice do obstaculo <br>\n",
    "10 - Repetir isso até que o ponto atual seja igual ao ponto final <br>"
   ]
  },
  {
   "cell_type": "code",
   "execution_count": 300,
   "id": "8a0beb66-f1dd-42f3-83cb-bc1fd28af92d",
   "metadata": {
    "tags": []
   },
   "outputs": [],
   "source": [
    "# Criar caminho entre o ponto inicial e o ponto final\n",
    "caminho_completo = []\n",
    "posicao_atual = inicio\n",
    "inicio = mapa['coordenada_inicial']\n",
    "fim = mapa['coordenada_final']\n",
    "\n",
    "while posicao_atual != fim:\n",
    "    \n",
    "    intersecoes, segmentos_com_intersecoes = listar_intersecoes([posicao_atual, fim], mapa['obstaculos'])\n",
    "    \n",
    "    if intersecoes:\n",
    "        \n",
    "        primeiro_ponto_intersecao = None\n",
    "        primeiro_segmento_intersecao = None\n",
    "        ultima_distancia = None\n",
    "\n",
    "        # Decobrir qual foi o primeiro ponto que houve choque\n",
    "        for i in range(len(intersecoes)):\n",
    "            # i = 0,1,2,3...\n",
    "            distancia = distancia_euclidiana(intersecoes[i], posicao_atual)\n",
    "    \n",
    "            if primeiro_ponto_intersecao is None:\n",
    "                primeiro_ponto_intersecao = intersecoes[i]\n",
    "                primeiro_segmento_intersecao = segmentos_com_intersecoes[i]\n",
    "                ultima_distancia = distancia\n",
    "            elif distancia < ultima_distancia:\n",
    "                primeiro_ponto_intersecao = intersecoes[i]\n",
    "                primeiro_segmento_intersecao = segmentos_com_intersecoes[i]\n",
    "                ultima_distancia = distancia\n",
    "    \n",
    "        # Adicionar no caminho um segmento de reta do ponto atual até o ponto de interseção do segmento mais próximo\n",
    "        caminho_completo.append([posicao_atual, primeiro_ponto_intersecao])\n",
    "    \n",
    "        # Ponto atual se torna o ponto de interseção\n",
    "        posicao_atual = primeiro_ponto_intersecao\n",
    "    \n",
    "        # Descobrir qual dos vertices do segmento mais próximo possui distancia euclidiana menor em relação ao ponto final\n",
    "        distancia_vertice1 = distancia_euclidiana(primeiro_segmento_intersecao[0], fim)\n",
    "        distancia_vertice2 = distancia_euclidiana(primeiro_segmento_intersecao[1], fim)\n",
    "\n",
    "        vertice_mais_proximo = None\n",
    "\n",
    "        if distancia_vertice1 < distancia_vertice2:\n",
    "            vertice_mais_proximo = primeiro_segmento_intersecao[0]\n",
    "        else:\n",
    "            vertice_mais_proximo = primeiro_segmento_intersecao[1]\n",
    "        \n",
    "        # Adicionar ao caminho o segmento de reta do ponto de interseção até o vertice daquele segmento de reta do obstaculo.\n",
    "        caminho_completo.append([posicao_atual, vertice_mais_proximo])\n",
    "\n",
    "        '''\n",
    "        Nessa etapa, quando eu vou para o vertice de um segmento e poteriormente encontro os vertices de segmentos que provocam interseções,\n",
    "        o vertice que eu estou será considerado, Portanto, eu preciso encontrar o vertice e depois sair dele (andar uma posição para sair do vertice)\n",
    "\n",
    "        Para isso, devo saber em que direção eu preciso ir (cima, baixo, esquerda ou direita)\n",
    "\n",
    "        se eu subtrair o x,y do vertice mais proximo pela posição atual, as possibilidades serão:\n",
    "\n",
    "        x = 0 e y > 0 -> Para baixo\n",
    "        x = 0 e y < 0 -> Para cima\n",
    "        x > 0 e y = 0 -> Para a direita\n",
    "        x < 0 e y = 0 -> Para a esquerda\n",
    "\n",
    "        para cada um desses casos, eu devo aumentar ou diminuir 1 unidade em uma direção, a depender da condição\n",
    "        '''\n",
    "\n",
    "        valor_x = vertice_mais_proximo[0] - posicao_atual[0]\n",
    "        valor_y = vertice_mais_proximo[1] - posicao_atual[1]\n",
    "    \n",
    "        if valor_y > 0:\n",
    "            desvio = [vertice_mais_proximo[0], vertice_mais_proximo[1] + 1]\n",
    "            caminho_completo.append([posicao_atual, desvio])\n",
    "            posicao_atual = desvio\n",
    "        elif valor_y < 0:\n",
    "            desvio = [vertice_mais_proximo[0], vertice_mais_proximo[1] - 1]\n",
    "            caminho_completo.append([posicao_atual, desvio])\n",
    "            posicao_atual = desvio\n",
    "        elif valor_x > 0:\n",
    "            desvio = [vertice_mais_proximo[0] + 1, vertice_mais_proximo[1]]\n",
    "            caminho_completo.append([posicao_atual, desvio])\n",
    "            posicao_atual = desvio\n",
    "        else:\n",
    "            desvio = [vertice_mais_proximo[0] - 1, vertice_mais_proximo[1]]\n",
    "            caminho_completo.append([posicao_atual, desvio])\n",
    "            posicao_atual = desvio\n",
    "    else:\n",
    "        caminho_completo.append([posicao_atual, fim])\n",
    "        posicao_atual = fim"
   ]
  },
  {
   "cell_type": "code",
   "execution_count": 301,
   "id": "3a5dba07-4739-4469-90cb-07810965d06c",
   "metadata": {
    "tags": []
   },
   "outputs": [
    {
     "data": {
      "text/plain": [
       "[[(1, 1), [22.0, 22.0]],\n",
       " [[22.0, 22.0], (27.0, 22.0)],\n",
       " [[22.0, 22.0], [28.0, 22.0]],\n",
       " [[28.0, 22.0], [38.888888888888886, 36.0]],\n",
       " [[38.888888888888886, 36.0], (41.0, 36.0)],\n",
       " [[38.888888888888886, 36.0], [42.0, 36.0]],\n",
       " [[42.0, 36.0], [49, 49]]]"
      ]
     },
     "execution_count": 301,
     "metadata": {},
     "output_type": "execute_result"
    }
   ],
   "source": [
    "caminho_completo"
   ]
  },
  {
   "cell_type": "markdown",
   "id": "34e9737c-c167-436c-8a22-b448a457656e",
   "metadata": {},
   "source": [
    "# Plotar caminho no mapa"
   ]
  },
  {
   "cell_type": "code",
   "execution_count": 302,
   "id": "acde15da-70ce-463e-ab0b-0368eb97223f",
   "metadata": {
    "tags": []
   },
   "outputs": [
    {
     "data": {
      "image/png": "[encoded data removed]",
      "text/plain": [
       "<Figure size 640x480 with 1 Axes>"
      ]
     },
     "metadata": {},
     "output_type": "display_data"
    }
   ],
   "source": [
    "# Criando um retângulo\n",
    "retangulo_mapa = patches.Rectangle((mapa['mapa'][0][1], mapa['mapa'][0][0]), mapa['mapa'][3][1], mapa['mapa'][3][0], edgecolor='blue', facecolor='none', label='Mapa')\n",
    "\n",
    "fig, ax = plt.subplots()\n",
    "\n",
    "# Obstaculos\n",
    "for obstaculo in mapa['obstaculos']: \n",
    "    #obstaculos [[12, 4], [12, 14], [22, 4], [22, 14]]\n",
    "    retangulo_obstaculo = patches.Rectangle((obstaculo[0][1], obstaculo[0][0]), obstaculo[3][1] - obstaculo[0][1], obstaculo[3][0] - obstaculo[0][0], edgecolor='red', facecolor='red')\n",
    "    ax.add_patch(retangulo_obstaculo)\n",
    "\n",
    "\n",
    "# limite do plot\n",
    "plt.xlim(mapa['mapa'][0][0] - 0.5, mapa['mapa'][3][1] + 0.5)\n",
    "plt.ylim(mapa['mapa'][0][0] - 0.5, mapa['mapa'][3][0] + 0.5)\n",
    "\n",
    "ax.add_patch(retangulo_mapa) # adicionando Mapa\n",
    "\n",
    "# Adicionar os pontos de início e fim\n",
    "inicio = tuple(mapa['coordenada_inicial'])\n",
    "fim = tuple(mapa['coordenada_final'])\n",
    "plt.plot(*inicio, 'go', label='Início')\n",
    "plt.plot(*fim, 'ro', label='Fim')\n",
    "\n",
    "\n",
    "\n",
    "# adicionar o caminho\n",
    "for segmento in caminho_completo:\n",
    "    # segmento = [[1, 1], [9.0, 9.0]]\n",
    "    \n",
    "    x1 = segmento[0][1] \n",
    "    x2 = segmento[1][1]\n",
    "    y1 = segmento[0][0]\n",
    "    y2 = segmento[1][0]\n",
    "    \n",
    "    \n",
    "    plt.plot([x1, x2], [y1, y2], color='blue')\n",
    "\n",
    "\n",
    "plt.gca().invert_yaxis() # Inverte o eixo Y (Para ficar parecido com o crescimento de uma matriz\n",
    "\n",
    "# Adicionando legendas\n",
    "plt.legend()\n",
    "\n",
    "plt.title('Mapa de Obstáculos')\n",
    "plt.grid(True)\n",
    "plt.gca().set_aspect('equal', adjustable='box')  # Mantém a proporção dos eixos\n",
    "\n",
    "plt.show()"
   ]
  },
  {
   "cell_type": "code",
   "execution_count": null,
   "id": "00b76b58-c1e6-4aa6-b952-7ba94c8e1488",
   "metadata": {},
   "outputs": [],
   "source": []
  }
 ],
 "metadata": {
  "kernelspec": {
   "display_name": "Python 3 (ipykernel)",
   "language": "python",
   "name": "python3"
  },
  "language_info": {
   "codemirror_mode": {
    "name": "ipython",
    "version": 3
   },
   "file_extension": ".py",
   "mimetype": "text/x-python",
   "name": "python",
   "nbconvert_exporter": "python",
   "pygments_lexer": "ipython3",
   "version": "3.11.5"
  }
 },
 "nbformat": 4,
 "nbformat_minor": 5
}
