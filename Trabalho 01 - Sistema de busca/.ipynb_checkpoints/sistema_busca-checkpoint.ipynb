{
 "cells": [
  {
   "cell_type": "code",
   "execution_count": 72,
   "id": "b8634fed-f636-4c3a-a735-4bf89ce29e33",
   "metadata": {
    "tags": []
   },
   "outputs": [],
   "source": [
    "import numpy as np\n",
    "from random import randint\n",
    "import matplotlib.pyplot as plt"
   ]
  },
  {
   "cell_type": "code",
   "execution_count": 73,
   "id": "eb76708b-72db-43be-8047-286bb9fd7e68",
   "metadata": {
    "tags": []
   },
   "outputs": [],
   "source": [
    "tam_obstaculo = 10\n",
    "random = 2\n",
    "coordenada_inicial = [0, 0]\n",
    "coordenada_final = [30, 30]"
   ]
  },
  {
   "cell_type": "markdown",
   "id": "d12c83a1-e05c-406f-96ce-2aeb4f262f3a",
   "metadata": {},
   "source": [
    "# 1º Etapa - Criar os obstaculos e os pontos iniciais e finais\n",
    "\n",
    "Essa etapa consiste em criar um mapa de proporção MxN, capaz de alocar todos os obstaculos e os pontos iniciais e finais;\n",
    "\n",
    "Observações:\n",
    "\n",
    "- Todos os obstaculos devem ser gerados automaticamente\n",
    "- Todos os obstaculos devem estar dentro do espaço do mapa (Caso aconteça, sortear uma nova posição)\n",
    "- Nenhum obstaculo deve sobrepor o outro (Caso aconteça, sortear uma nova posição)\n",
    "\n",
    "- para coordenadas, seguir a seguinte ordem para os valores em um array\n",
    "\n",
    "0-----1 <br>\n",
    "2-----3\n"
   ]
  },
  {
   "cell_type": "markdown",
   "id": "1ca8e4bf-97f7-4e37-bbf7-e94107e88da2",
   "metadata": {},
   "source": [
    "# Função para validar coordenada\n",
    "\n",
    "Essa função tem como objetivo receber um ponto e verificar se esse ponto está compreendido dentro de um retangulo de coordenadas.\n",
    "\n",
    "A função é útil para os seguintes casos:\n",
    "- Verificar se o ponto está dentro do mapa;\n",
    "- Verificar se um ponto de um obstaculo não sobrepoe outro obstaculo;"
   ]
  },
  {
   "cell_type": "code",
   "execution_count": 74,
   "id": "44e4bd2f-5174-4727-8946-315c7844ac1b",
   "metadata": {
    "tags": []
   },
   "outputs": [],
   "source": [
    "def coordenada_valida(ponto, x_min_mapa, y_min_mapa, x_max_mapa, y_max_mapa):\n",
    "    '''\n",
    "    ponto: [x,y]\n",
    "    x_min: Coordenada x minima do mapa\n",
    "    y_min: Coordenada y minima do mapa\n",
    "    x_max: Coordenada x máxima do mapa\n",
    "    y_max: Coordenada y máxima do mapa\n",
    "    \n",
    "    retorna True caso seja no intervalo e False caso a coordenada seja inválida\n",
    "    \n",
    "    '''\n",
    "    return x_min_mapa <= ponto[0] <= x_max_mapa and y_min_mapa <= ponto[1] <= y_max_mapa   "
   ]
  },
  {
   "cell_type": "markdown",
   "id": "8bf02fd0-66dc-4702-84ef-abc8efae4f8c",
   "metadata": {},
   "source": [
    "# Função Obstaculo Sobreposto\n",
    "\n",
    "Essa função tem como objetivo verificar se algum ponto (x,y) do novo obstaculo criado está dentro de um obstaculo criado anteriormente."
   ]
  },
  {
   "cell_type": "code",
   "execution_count": 75,
   "id": "a764a0e7-69ca-425e-b3da-1c85e48080b1",
   "metadata": {},
   "outputs": [],
   "source": [
    "def obstaculo_sobreposto(novo_obstaculo, obstaculos):\n",
    "    '''\n",
    "    novo_obstaculo: lista com os pontos do novo obstaculo -> [[x,y], [x,y], [x,y], [x,y]]\n",
    "    obstaculos: lista com todos os obstaculos já criados -> [[[x,y], [x,y], [x,y], [x,y]] , [[x,y], [x,y], [x,y], [x,y]]]\n",
    "    \n",
    "    \n",
    "    retornar True se os obstaculos se sobrepoe. False caso não se sobrepoe.\n",
    "    '''\n",
    "    \n",
    "    for obstaculo in obstaculos:\n",
    "        # obstaculo -> [[x,y], [x,y], [x,y], [x,y]]\n",
    "        for ponto in novo_obstaculo:\n",
    "            # ponto [x,y]\n",
    "            # A função coordenada_valida retorna true se o ponto estiver dentro do \"mapa\".\n",
    "            # Nesse caso, se o ponto do novo obstaculo estiver dentro do mapa(coordenadas do obstaculo anterior)\n",
    "            # significa dizer que o obstaculo sobrepoe o outro\n",
    "            if coordenada_valida(ponto, obstaculo[0][0], obstaculo[0][1], obstaculo[3][0], obstaculo[3][1]):\n",
    "                # obstaculos se sobrepoe\n",
    "                return True\n",
    "        \n",
    "    return False"
   ]
  },
  {
   "cell_type": "markdown",
   "id": "5e8308c2-b1ce-432e-a0a2-71352655f398",
   "metadata": {},
   "source": [
    "# Criando o Mapa\n",
    "\n",
    "Essa função deve criar:\n",
    "\n",
    "- O espaço do mapa;\n",
    "- Os pontos de início e fim;\n",
    "- Os obstaculos, que são gerados aleatoriamente;"
   ]
  },
  {
   "cell_type": "code",
   "execution_count": 76,
   "id": "24986fbc-374c-4d80-a469-e35783653cf9",
   "metadata": {
    "tags": []
   },
   "outputs": [],
   "source": [
    "def criar_mapa(tam_obstaculo, qtd_obstaculos, coordenada_inicial, coordenada_final):\n",
    "    '''\n",
    "    tam_obstaculo: valor que corresponde a proporção do obstaculo. ex: 10 (obstaculo 10x10)\n",
    "    qtd_obstaculos: quantidade de obstaculos a serem gerados\n",
    "    coordenada_inicial: coordenada x,y do ponto de partida\n",
    "    coordenada_final: coordenada x,y do ponto final\n",
    "    '''\n",
    "    try:\n",
    "        \n",
    "        max_mapa = qtd_obstaculos * tam_obstaculo + 10\n",
    "        \n",
    "        mapa = np.array([[0,0], [0, max_mapa], [max_mapa, 0], [max_mapa, max_mapa]])\n",
    "        \n",
    "        # verificar se as coordenadas de inicio estão dentro do mapa\n",
    "        if not coordenada_valida(coordenada_inicial, mapa[0][0], mapa[0][1], mapa[3][0], mapa[3][1]):\n",
    "            raise ValueError('Coordenada incial inválida')\n",
    "            \n",
    "        # verificar se as coordenadas final estão dentro do mapa\n",
    "        if not coordenada_valida(coordenada_final, mapa[0][0], mapa[0][1], mapa[3][0], mapa[3][1]):\n",
    "            raise ValueError('Coordenada Final inválida')\n",
    "            \n",
    "        '''\n",
    "        Criar obstaculos \n",
    "        \n",
    "        - Sortear um ponto x,y com tamanho maximo e minimo compreendido no tamanho do mapa\n",
    "        - verificar se esse ponto com o tamanho do obstaculo nao ultrapassa o espaço do mapa\n",
    "        '''    \n",
    "        \n",
    "        x = 0\n",
    "        contador = 0\n",
    "        obstaculos = []\n",
    "        while x < qtd_obstaculos:\n",
    "            x_min_obstaculo = randint(mapa[0][0], mapa[3][1])\n",
    "            y_min_obstaculo = randint(mapa[0][0], mapa[3][1])\n",
    "            \n",
    "            ponto1 = [x_min_obstaculo, y_min_obstaculo]\n",
    "            ponto2 = [x_min_obstaculo, y_min_obstaculo + tam_obstaculo]\n",
    "            ponto3 = [x_min_obstaculo + tam_obstaculo, y_min_obstaculo]\n",
    "            ponto4 = [x_min_obstaculo + tam_obstaculo, y_min_obstaculo + tam_obstaculo]\n",
    "            \n",
    "            # Verificar se algum ponto do obstaculo ultrapassa o mapa\n",
    "            # caso ultrapassar, essa repetição será ignorada (continue) e será gerado uma nova posição para o retangulo\n",
    "            if not coordenada_valida(ponto2, mapa[0][0], mapa[0][1], mapa[3][0], mapa[3][1]):\n",
    "                continue\n",
    "                \n",
    "            if not coordenada_valida(ponto3, mapa[0][0], mapa[0][1], mapa[3][0], mapa[3][1]):\n",
    "                continue\n",
    "                \n",
    "            if not coordenada_valida(ponto4, mapa[0][0], mapa[0][1], mapa[3][0], mapa[3][1]):\n",
    "                continue\n",
    "                \n",
    "            # verificar se algum obstaculo sobrepoe outro já existente\n",
    "            resultado_sobreposto = obstaculo_sobreposto([ponto1, ponto2, ponto3, ponto4], obstaculos)\n",
    "            \n",
    "            if resultado_sobreposto and contador < 50:\n",
    "                contador += 1\n",
    "                continue\n",
    "                \n",
    "            if contador == 50:\n",
    "                print('Obstaculos sobrepostos')\n",
    "            \n",
    "            # pontos do obstaculo válido, criar lista com todos os pontos\n",
    "            obstaculos.append([ponto1, ponto2, ponto3, ponto4])\n",
    "            x += 1\n",
    "            \n",
    "        resultados = {}\n",
    "        resultados['mapa'] = mapa\n",
    "        resultados['coordenada_inicial'] = coordenada_inicial\n",
    "        resultados['coordenada_final'] = coordenada_final\n",
    "        resultados['obstaculos'] = obstaculos\n",
    "        \n",
    "        return resultados\n",
    "    except ValueError as e:\n",
    "        print(f'Error: {e}')"
   ]
  },
  {
   "cell_type": "code",
   "execution_count": 112,
   "id": "1cb4d5fc-f1cc-4771-9896-057894ba4efa",
   "metadata": {
    "tags": []
   },
   "outputs": [
    {
     "data": {
      "text/plain": [
       "{'mapa': array([[ 0,  0],\n",
       "        [ 0, 30],\n",
       "        [30,  0],\n",
       "        [30, 30]]),\n",
       " 'coordenada_inicial': [0, 0],\n",
       " 'coordenada_final': [30, 30],\n",
       " 'obstaculos': [[[12, 17], [12, 27], [22, 17], [22, 27]],\n",
       "  [[4, 3], [4, 13], [14, 3], [14, 13]]]}"
      ]
     },
     "execution_count": 112,
     "metadata": {},
     "output_type": "execute_result"
    }
   ],
   "source": [
    "mapa = criar_mapa(tam_obstaculo, random, coordenada_inicial, coordenada_final)\n",
    "mapa"
   ]
  },
  {
   "cell_type": "markdown",
   "id": "5dd13cb4-3cd5-49f0-a16c-e9fcdaa4ebe0",
   "metadata": {},
   "source": [
    "# Plotando o Mapa"
   ]
  },
  {
   "cell_type": "code",
   "execution_count": 126,
   "id": "dbda97ee-ea26-470b-8ec9-0a45112af0e7",
   "metadata": {
    "tags": []
   },
   "outputs": [
    {
     "data": {
      "image/png": "[encoded data removed]",
      "text/plain": [
       "<Figure size 640x480 with 1 Axes>"
      ]
     },
     "metadata": {},
     "output_type": "display_data"
    }
   ],
   "source": [
    "# Criando um retângulo\n",
    "retangulo_mapa = patches.Rectangle((mapa['mapa'][0][1], mapa['mapa'][0][0]), mapa['mapa'][3][1], mapa['mapa'][3][0], edgecolor='blue', facecolor='none', label='Mapa')\n",
    "\n",
    "fig, ax = plt.subplots()\n",
    "\n",
    "# Obstaculos\n",
    "for obstaculo in mapa['obstaculos']: \n",
    "    #obstaculos [[12, 4], [12, 14], [22, 4], [22, 14]]\n",
    "    retangulo_obstaculo = patches.Rectangle((obstaculo[0][1], obstaculo[0][0]), obstaculo[3][1] - obstaculo[0][1], obstaculo[3][0] - obstaculo[0][0], edgecolor='red', facecolor='red')\n",
    "    ax.add_patch(retangulo_obstaculo)\n",
    "\n",
    "\n",
    "# limite do plot\n",
    "plt.xlim(mapa['mapa'][0][0] - 0.5, mapa['mapa'][3][1] + 0.5)\n",
    "plt.ylim(mapa['mapa'][0][0] - 0.5, mapa['mapa'][3][0] + 0.5)\n",
    "\n",
    "ax.add_patch(retangulo_mapa) # adicionando Mapa\n",
    "\n",
    "# Adicionar os pontos de início e fim\n",
    "inicio = tuple(mapa['coordenada_inicial'])\n",
    "fim = tuple(mapa['coordenada_final'])\n",
    "plt.plot(*inicio, 'go', label='Início')\n",
    "plt.plot(*fim, 'ro', label='Fim')\n",
    "\n",
    "plt.gca().invert_yaxis() # Inverte o eixo Y (Para ficar parecido com o crescimento de uma matriz\n",
    "\n",
    "# Adicionando legendas\n",
    "plt.legend()\n",
    "\n",
    "plt.title('Mapa de Obstáculos')\n",
    "plt.grid(True)\n",
    "plt.gca().set_aspect('equal', adjustable='box')  # Mantém a proporção dos eixos\n",
    "\n",
    "# Exibindo o gráfico\n",
    "plt.show()"
   ]
  }
 ],
 "metadata": {
  "kernelspec": {
   "display_name": "Python 3 (ipykernel)",
   "language": "python",
   "name": "python3"
  },
  "language_info": {
   "codemirror_mode": {
    "name": "ipython",
    "version": 3
   },
   "file_extension": ".py",
   "mimetype": "text/x-python",
   "name": "python",
   "nbconvert_exporter": "python",
   "pygments_lexer": "ipython3",
   "version": "3.11.5"
  }
 },
 "nbformat": 4,
 "nbformat_minor": 5
}
