{
 "cells": [
  {
   "cell_type": "markdown",
   "id": "d4cd0e61-68db-439f-a44c-85cfca8893dd",
   "metadata": {},
   "source": [
    "# Jogo dos 8 "
   ]
  },
  {
   "cell_type": "markdown",
   "id": "bec30c66-95b7-4da7-92e0-6e6145284afc",
   "metadata": {},
   "source": [
    "O problema consiste em movimentar peças até que todos os números estejam organizados."
   ]
  },
  {
   "cell_type": "markdown",
   "id": "ffc13803-9b0e-47aa-b5e6-81349b84f981",
   "metadata": {},
   "source": [
    "<p style=\"text-align:center;\">\n",
    "    <img src=\"jogo_dos_8.jpg\" width=\"25%\">\n",
    "</p>\n"
   ]
  },
  {
   "cell_type": "code",
   "execution_count": 27,
   "id": "69653e7e-29cc-4c95-a13a-90f19715f23a",
   "metadata": {
    "tags": []
   },
   "outputs": [],
   "source": [
    "class No:\n",
    "    def __init__(self, estado, pai, acao):\n",
    "        self.estado = estado\n",
    "        self.pai = pai\n",
    "        self.acao = acao\n",
    "\n",
    "    def expandir(self):\n",
    "        \"\"\"\n",
    "        Retorna uma lista de nós filhos\n",
    "        \"\"\"\n",
    "        filhos = []\n",
    "        for acao in self.estado.acoes():\n",
    "            novo_estado = self.estado.resultado(acao)\n",
    "            novo_no = No(novo_estado, self, acao)\n",
    "            filhos.append(novo_no)\n",
    "        return filhos\n",
    "\n",
    "    def caminho(self):\n",
    "        \"\"\"\n",
    "        Retorna a sequência de ações que levam a este nó\n",
    "        \"\"\"\n",
    "        no = self\n",
    "        caminho_invertido_acao = []\n",
    "        caminho_invertido_tabuleiro = []\n",
    "        \n",
    "        while no.pai is not None:\n",
    "            caminho_invertido_acao.append(no.acao)\n",
    "            caminho_invertido_tabuleiro.append(no.estado.tabuleiro)\n",
    "            no = no.pai\n",
    "        return [list(reversed(caminho_invertido_acao)), list(reversed(caminho_invertido_tabuleiro))]\n"
   ]
  },
  {
   "cell_type": "code",
   "execution_count": 28,
   "id": "5511092a-772d-444a-a57f-c4d85e923fa7",
   "metadata": {
    "tags": []
   },
   "outputs": [],
   "source": [
    "class EstadoJogo:\n",
    "    def __init__(self, tabuleiro):\n",
    "        self.tabuleiro = tabuleiro\n",
    "\n",
    "    def acoes(self):\n",
    "        \"\"\"\n",
    "        Retorna uma lista de ações possíveis no estado atual\n",
    "        \"\"\"\n",
    "        acoes = []\n",
    "        for i in range(3):\n",
    "            for j in range(3):\n",
    "                if self.tabuleiro[i][j] == 0:\n",
    "                    if i > 0:\n",
    "                        acoes.append(('acima', i, j))\n",
    "                    if i < 2:\n",
    "                        acoes.append(('abaixo', i, j))\n",
    "                    if j > 0:\n",
    "                        acoes.append(('esquerda', i, j))\n",
    "                    if j < 2:\n",
    "                        acoes.append(('direita', i, j))\n",
    "        return acoes\n",
    "\n",
    "    def resultado(self, acao):\n",
    "        \"\"\"\n",
    "        Retorna o novo estado resultante após a ação ser tomada\n",
    "        \n",
    "        \"\"\"\n",
    "        direcao, i, j = acao\n",
    "        novo_tabuleiro = [linha[:] for linha in self.tabuleiro]\n",
    "        if direcao == 'acima':\n",
    "            novo_tabuleiro[i][j], novo_tabuleiro[i - 1][j] = novo_tabuleiro[i - 1][j], novo_tabuleiro[i][j]\n",
    "        elif direcao == 'abaixo':\n",
    "            novo_tabuleiro[i][j], novo_tabuleiro[i + 1][j] = novo_tabuleiro[i + 1][j], novo_tabuleiro[i][j]\n",
    "        elif direcao == 'esquerda':\n",
    "            novo_tabuleiro[i][j], novo_tabuleiro[i][j - 1] = novo_tabuleiro[i][j - 1], novo_tabuleiro[i][j]\n",
    "        elif direcao == 'direita':\n",
    "            novo_tabuleiro[i][j], novo_tabuleiro[i][j + 1] = novo_tabuleiro[i][j + 1], novo_tabuleiro[i][j]\n",
    "        return EstadoJogo(novo_tabuleiro)\n",
    "\n",
    "    def objetivo(self):\n",
    "        \"\"\"\n",
    "        Verifica se o estado atual é o estado objetivo\n",
    "        \"\"\"\n",
    "        return self.tabuleiro == [[1, 2, 3], [4, 5, 6], [7, 8, 0]]"
   ]
  },
  {
   "cell_type": "code",
   "execution_count": 29,
   "id": "6b4927fa-a352-4ac7-91ce-46d608467a3c",
   "metadata": {
    "tags": []
   },
   "outputs": [],
   "source": [
    "def busca_profundidade(estado_inicial):\n",
    "    \"\"\"\n",
    "    Implementação do algoritmo de busca em profundidade sem usar um conjunto para controle de estados explorados.\n",
    "    \"\"\"\n",
    "    fronteira = [No(estado_inicial, None, None)]\n",
    "\n",
    "    while fronteira:\n",
    "        no = fronteira.pop()\n",
    "        if no.estado.objetivo():\n",
    "            return no.caminho(), no.estado\n",
    "\n",
    "        # Verificar se o estado atual já foi explorado\n",
    "        explorado = False\n",
    "        node = no\n",
    "        while node.pai is not None:\n",
    "            if node.pai.estado.tabuleiro == no.estado.tabuleiro:\n",
    "                explorado = True\n",
    "                break\n",
    "            node = node.pai\n",
    "\n",
    "        if not explorado:\n",
    "            filhos = no.expandir()\n",
    "            filhos.reverse()\n",
    "            \n",
    "            for filho in filhos:\n",
    "                fronteira.append(filho)\n",
    "\n",
    "    return None, None"
   ]
  },
  {
   "cell_type": "code",
   "execution_count": 30,
   "id": "b648be87-3837-4b86-a6cd-ce4c69e0baa2",
   "metadata": {
    "tags": []
   },
   "outputs": [
    {
     "ename": "KeyboardInterrupt",
     "evalue": "",
     "output_type": "error",
     "traceback": [
      "\u001b[0;31m---------------------------------------------------------------------------\u001b[0m",
      "\u001b[0;31mKeyboardInterrupt\u001b[0m                         Traceback (most recent call last)",
      "Cell \u001b[0;32mIn[30], line 32\u001b[0m\n\u001b[1;32m     29\u001b[0m tabuleiro_inicial \u001b[38;5;241m=\u001b[39m [[\u001b[38;5;241m8\u001b[39m, \u001b[38;5;241m2\u001b[39m, \u001b[38;5;241m3\u001b[39m], [\u001b[38;5;241m4\u001b[39m, \u001b[38;5;241m5\u001b[39m, \u001b[38;5;241m6\u001b[39m], [\u001b[38;5;241m7\u001b[39m, \u001b[38;5;241m1\u001b[39m, \u001b[38;5;241m0\u001b[39m]]\n\u001b[1;32m     30\u001b[0m estado_inicial \u001b[38;5;241m=\u001b[39m EstadoJogo(tabuleiro_inicial)\n\u001b[0;32m---> 32\u001b[0m solucao, estado_final \u001b[38;5;241m=\u001b[39m busca_profundidade(estado_inicial)\n",
      "Cell \u001b[0;32mIn[29], line 15\u001b[0m, in \u001b[0;36mbusca_profundidade\u001b[0;34m(estado_inicial)\u001b[0m\n\u001b[1;32m     13\u001b[0m explorado \u001b[38;5;241m=\u001b[39m \u001b[38;5;28;01mFalse\u001b[39;00m\n\u001b[1;32m     14\u001b[0m node \u001b[38;5;241m=\u001b[39m no\n\u001b[0;32m---> 15\u001b[0m \u001b[38;5;28;01mwhile\u001b[39;00m node\u001b[38;5;241m.\u001b[39mpai \u001b[38;5;129;01mis\u001b[39;00m \u001b[38;5;129;01mnot\u001b[39;00m \u001b[38;5;28;01mNone\u001b[39;00m:\n\u001b[1;32m     16\u001b[0m     \u001b[38;5;28;01mif\u001b[39;00m node\u001b[38;5;241m.\u001b[39mpai\u001b[38;5;241m.\u001b[39mestado\u001b[38;5;241m.\u001b[39mtabuleiro \u001b[38;5;241m==\u001b[39m no\u001b[38;5;241m.\u001b[39mestado\u001b[38;5;241m.\u001b[39mtabuleiro:\n\u001b[1;32m     17\u001b[0m         explorado \u001b[38;5;241m=\u001b[39m \u001b[38;5;28;01mTrue\u001b[39;00m\n",
      "\u001b[0;31mKeyboardInterrupt\u001b[0m: "
     ]
    }
   ],
   "source": [
    "# teste 1\n",
    "#tabuleiro_inicial = [[1, 2, 3], [4, 5, 6], [7, 8, 0]]\n",
    "#estado_inicial = EstadoJogo(tabuleiro_inicial)\n",
    "\n",
    "# teate 2\n",
    "#tabuleiro_inicial = [[1, 2, 3], [4, 5, 6], [7, 0, 8]]\n",
    "#estado_inicial = EstadoJogo(tabuleiro_inicial)\n",
    "\n",
    "# teate 3\n",
    "#tabuleiro_inicial = [[1, 2, 3], [4, 0, 5], [7, 8, 6]]\n",
    "#estado_inicial = EstadoJogo(tabuleiro_inicial)\n",
    "\n",
    "# teate 4\n",
    "#tabuleiro_inicial = [[1, 2, 3], [0, 4, 5], [7, 8, 6]]\n",
    "#estado_inicial = EstadoJogo(tabuleiro_inicial)\n",
    "\n",
    "# teste 5\n",
    "#tabuleiro_inicial = [[1, 2, 3], [7, 4, 5], [0, 8, 6]]\n",
    "#estado_inicial = EstadoJogo(tabuleiro_inicial)\n",
    "\n",
    "# teste 6 \n",
    "#tabuleiro_inicial = [[1, 2, 3], [4, 0, 5], [6, 7, 8]]\n",
    "#estado_inicial = EstadoJogo(tabuleiro_inicial)\n",
    "\n",
    "#tabuleiro_inicial = [[1, 2, 3], [4, 0, 5], [6, 7, 8]]\n",
    "#estado_inicial = EstadoJogo(tabuleiro_inicial)\n",
    "\n",
    "# teste 7 (não soluciona)\n",
    "tabuleiro_inicial = [[8, 2, 3], [4, 5, 6], [7, 1, 0]]\n",
    "estado_inicial = EstadoJogo(tabuleiro_inicial)\n",
    "\n",
    "solucao, estado_final = busca_profundidade(estado_inicial)"
   ]
  },
  {
   "cell_type": "code",
   "execution_count": null,
   "id": "db7feaef-93cc-4293-8ca2-edb8428902e0",
   "metadata": {
    "tags": []
   },
   "outputs": [],
   "source": [
    "if solucao:\n",
    "    print(\"Solução encontrada:\")\n",
    "    for acao in solucao[0]:\n",
    "        print(acao)\n",
    "        \n",
    "    print(\"\\nEstado Inicial:\")\n",
    "    for linha in estado_inicial.tabuleiro:\n",
    "        print(linha)\n",
    "        \n",
    "    print('\\n')  \n",
    "    for estado in solucao[1]:\n",
    "        for linha in estado:\n",
    "            print(linha)\n",
    "        print('\\n')\n",
    "        \n",
    "    print(\"\\nEstado final:\")\n",
    "    for linha in estado_final.tabuleiro:\n",
    "        print(linha)\n",
    "    \n",
    "elif solucao == []:\n",
    "    print('Estado inicial já é a solução')\n",
    "else:\n",
    "    print(\"Não foi encontrada uma solução.\")"
   ]
  },
  {
   "cell_type": "code",
   "execution_count": null,
   "id": "a308a003-5866-4a20-9998-a9c12c906b4c",
   "metadata": {},
   "outputs": [],
   "source": []
  }
 ],
 "metadata": {
  "kernelspec": {
   "display_name": "Python 3 (ipykernel)",
   "language": "python",
   "name": "python3"
  },
  "language_info": {
   "codemirror_mode": {
    "name": "ipython",
    "version": 3
   },
   "file_extension": ".py",
   "mimetype": "text/x-python",
   "name": "python",
   "nbconvert_exporter": "python",
   "pygments_lexer": "ipython3",
   "version": "3.11.5"
  }
 },
 "nbformat": 4,
 "nbformat_minor": 5
}
